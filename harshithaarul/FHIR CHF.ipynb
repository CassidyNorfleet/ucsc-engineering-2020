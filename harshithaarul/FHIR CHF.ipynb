{
 "cells": [
  {
   "cell_type": "code",
   "execution_count": 2,
   "metadata": {},
   "outputs": [],
   "source": [
    "import os, json, torch\n",
    "import numpy as np\n",
    "import matplotlib.pyplot as plt\n",
    "%matplotlib inline"
   ]
  },
  {
   "cell_type": "code",
   "execution_count": 3,
   "metadata": {},
   "outputs": [],
   "source": [
    "os.chdir(\"output/fhir\")\n",
    "fL = os.listdir()"
   ]
  },
  {
   "cell_type": "code",
   "execution_count": 50,
   "metadata": {},
   "outputs": [],
   "source": [
    "cndtns = [ ent for ent in filE if ent[\"resource\"][\"resourceType\"]  == \"Condition\"]"
   ]
  },
  {
   "cell_type": "code",
   "execution_count": 56,
   "metadata": {},
   "outputs": [],
   "source": [
    "conditions1 = [cnd['resource']['code']['coding'][0]['display'] for cnd in cndtns]"
   ]
  },
  {
   "cell_type": "code",
   "execution_count": 57,
   "metadata": {},
   "outputs": [
    {
     "data": {
      "text/plain": [
       "['Hypertension',\n",
       " 'Prediabetes',\n",
       " 'Miscarriage in first trimester',\n",
       " 'Osteoarthritis of knee',\n",
       " 'Viral sinusitis (disorder)',\n",
       " 'Viral sinusitis (disorder)',\n",
       " 'Chronic congestive heart failure (disorder)',\n",
       " 'Sprain of ankle']"
      ]
     },
     "execution_count": 57,
     "metadata": {},
     "output_type": "execute_result"
    }
   ],
   "source": [
    "conditions1"
   ]
  },
  {
   "cell_type": "code",
   "execution_count": 9,
   "metadata": {},
   "outputs": [],
   "source": [
    "totObsList = []\n",
    "for f in fL:\n",
    "    #print (f)\n",
    "    patFile = open(f)\n",
    "    try:\n",
    "        patJSON = json.load(patFile)\n",
    "    except:\n",
    "        continue\n",
    "    patEntry = patJSON['entry']\n",
    "    try:\n",
    "        name = patEntry[0]['resource']['name'][0]['given'][0] + \" \" + patEntry[0]['resource']['name'][0]['family']\n",
    "    except:\n",
    "        continue\n",
    "    patCO2 = [(name,ent['resource']['valueQuantity']['value'],ent['resource']['effectiveDateTime']) for ent in patEntry if ent['resource']['resourceType'] ==\"Observation\" and ent['resource']['category'][0]['coding'][0]['code']==\"laboratory\" and ent['resource']['code']['text'] == \"Carbon Dioxide\"]\n",
    "    #observations = [cnd['resource']['code']['coding'][0]['display'] for cnd in patObservations]\n",
    "    totObsList.append(patCO2)\n",
    "    patFile.close()"
   ]
  },
  {
   "cell_type": "markdown",
   "metadata": {},
   "source": [
    "##### When we are trying to run this with a huge data set, we can try to filter out for common diseases such as a cold that may not affect the disease that we are analyzing "
   ]
  },
  {
   "cell_type": "code",
   "execution_count": 18,
   "metadata": {},
   "outputs": [],
   "source": [
    "avgListWName = []\n",
    "for person in totObsList:\n",
    "    total = 0\n",
    "    for CO2Obs in person:\n",
    "        total += CO2Obs[1]\n",
    "    if not total == 0:\n",
    "        avg = total/(len(person))\n",
    "        avgList.append((CO2Obs[0],avg))\n"
   ]
  },
  {
   "cell_type": "code",
   "execution_count": 21,
   "metadata": {},
   "outputs": [],
   "source": [
    "avgList = []\n",
    "for person in totObsList:\n",
    "    total = 0\n",
    "    for CO2Obs in person:\n",
    "        total += CO2Obs[1]\n",
    "    if not total == 0:\n",
    "        avg = total/(len(person))\n",
    "        avgList.append(avg)"
   ]
  },
  {
   "cell_type": "code",
   "execution_count": 24,
   "metadata": {},
   "outputs": [],
   "source": [
    "npAVL = np.array(avgList)"
   ]
  },
  {
   "cell_type": "code",
   "execution_count": 29,
   "metadata": {},
   "outputs": [
    {
     "data": {
      "text/plain": [
       "565"
      ]
     },
     "execution_count": 29,
     "metadata": {},
     "output_type": "execute_result"
    }
   ],
   "source": [
    "len(totObsList)"
   ]
  },
  {
   "cell_type": "code",
   "execution_count": 27,
   "metadata": {},
   "outputs": [
    {
     "data": {
      "text/plain": [
       "(array([  5.,  10.,  25.,  52., 148., 201.,  82.,  25.,  10.,   2.]),\n",
       " array([20.34      , 21.13533333, 21.93066667, 22.726     , 23.52133333,\n",
       "        24.31666667, 25.112     , 25.90733333, 26.70266667, 27.498     ,\n",
       "        28.29333333]),\n",
       " <a list of 10 Patch objects>)"
      ]
     },
     "execution_count": 27,
     "metadata": {},
     "output_type": "execute_result"
    },
    {
     "data": {
      "image/png": "[encoded data removed]",
      "text/plain": [
       "<Figure size 432x288 with 1 Axes>"
      ]
     },
     "metadata": {
      "needs_background": "light"
     },
     "output_type": "display_data"
    }
   ],
   "source": [
    "plt.hist(npAVL)"
   ]
  },
  {
   "cell_type": "code",
   "execution_count": null,
   "metadata": {},
   "outputs": [],
   "source": []
  }
 ],
 "metadata": {
  "kernelspec": {
   "display_name": "Python 3",
   "language": "python",
   "name": "python3"
  },
  "language_info": {
   "codemirror_mode": {
    "name": "ipython",
    "version": 3
   },
   "file_extension": ".py",
   "mimetype": "text/x-python",
   "name": "python",
   "nbconvert_exporter": "python",
   "pygments_lexer": "ipython3",
   "version": "3.7.4"
  }
 },
 "nbformat": 4,
 "nbformat_minor": 4
}
