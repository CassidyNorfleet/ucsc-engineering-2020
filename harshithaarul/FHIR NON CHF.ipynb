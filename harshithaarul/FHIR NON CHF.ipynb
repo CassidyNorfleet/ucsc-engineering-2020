{
 "cells": [
  {
   "cell_type": "code",
   "execution_count": 2,
   "metadata": {},
   "outputs": [],
   "source": [
    "import os, json\n",
    "import numpy as np\n",
    "import pandas\n",
    "import matplotlib.pyplot as plt\n",
    "%matplotlib inline"
   ]
  },
  {
   "cell_type": "code",
   "execution_count": 6,
   "metadata": {},
   "outputs": [],
   "source": [
    "os.chdir(\"output/fhirALL\")\n",
    "fL = os.listdir()"
   ]
  },
  {
   "cell_type": "code",
   "execution_count": 7,
   "metadata": {},
   "outputs": [],
   "source": [
    "totObsList = []\n",
    "cndtnCounter = {}\n",
    "\n",
    "for f in fL:\n",
    "    #print (f)\n",
    "    patFile = open(f)\n",
    "    try:\n",
    "        patJSON = json.load(patFile)\n",
    "    except:\n",
    "        continue\n",
    "    patEntry = patJSON['entry']\n",
    "    try:\n",
    "        name = patEntry[0]['resource']['name'][0]['given'][0] + \" \" + patEntry[0]['resource']['name'][0]['family']\n",
    "    except:\n",
    "        continue\n",
    "    cndtns = [ ent['resource']['code']['coding'][0]['display'] for ent in patEntry if ent[\"resource\"][\"resourceType\"]  == \"Condition\"]\n",
    "    cndtnSeenList = []\n",
    "    for cnd in cndtns:\n",
    "        if not cnd in cndtnSeenList:\n",
    "            try:\n",
    "                cndtnCounter[cnd] +=1\n",
    "            except:\n",
    "                cndtnCounter[cnd] =1\n",
    "            cndtnSeenList.append(cnd)\n",
    "    patCO2 = [(name,ent['resource']['valueQuantity']['value'],ent['resource']['effectiveDateTime']) for ent in patEntry if ent['resource']['resourceType'] ==\"Observation\" and ent['resource']['category'][0]['coding'][0]['code']==\"laboratory\" and ent['resource']['code']['text'] == \"Carbon Dioxide\"]\n",
    "    #observations = [cnd['resource']['code']['coding'][0]['display'] for cnd in patObservations]\n",
    "    totObsList.append(patCO2)\n",
    "    patFile.close()"
   ]
  },
  {
   "cell_type": "code",
   "execution_count": 8,
   "metadata": {},
   "outputs": [],
   "source": [
    "avgList = []\n",
    "for person in totObsList:\n",
    "    total = 0\n",
    "    for CO2Obs in person:\n",
    "        total += CO2Obs[1]\n",
    "    if not total == 0:\n",
    "        avg = total/(len(person))\n",
    "        avgList.append(avg)"
   ]
  },
  {
   "cell_type": "code",
   "execution_count": 9,
   "metadata": {},
   "outputs": [],
   "source": [
    "npAVL = np.array(avgList)"
   ]
  },
  {
   "cell_type": "code",
   "execution_count": 10,
   "metadata": {},
   "outputs": [
    {
     "data": {
      "text/plain": [
       "(array([  4.,  12.,  31.,  70., 148., 106.,  39.,   8.,   8.,   5.]),\n",
       " array([21.115 , 21.8395, 22.564 , 23.2885, 24.013 , 24.7375, 25.462 ,\n",
       "        26.1865, 26.911 , 27.6355, 28.36  ]),\n",
       " <a list of 10 Patch objects>)"
      ]
     },
     "execution_count": 10,
     "metadata": {},
     "output_type": "execute_result"
    },
    {
     "data": {
      "image/png": "[encoded data removed]",
      "text/plain": [
       "<Figure size 432x288 with 1 Axes>"
      ]
     },
     "metadata": {
      "needs_background": "light"
     },
     "output_type": "display_data"
    }
   ],
   "source": [
    "plt.hist(npAVL)"
   ]
  },
  {
   "cell_type": "code",
   "execution_count": 11,
   "metadata": {},
   "outputs": [
    {
     "data": {
      "text/plain": [
       "1165"
      ]
     },
     "execution_count": 11,
     "metadata": {},
     "output_type": "execute_result"
    }
   ],
   "source": [
    "len(totObsList)"
   ]
  },
  {
   "cell_type": "code",
   "execution_count": 13,
   "metadata": {},
   "outputs": [
    {
     "data": {
      "text/plain": [
       "431"
      ]
     },
     "execution_count": 13,
     "metadata": {},
     "output_type": "execute_result"
    }
   ],
   "source": [
    "len(npAVL)"
   ]
  },
  {
   "cell_type": "code",
   "execution_count": 23,
   "metadata": {},
   "outputs": [
    {
     "data": {
      "text/plain": [
       "{'Otitis media': 142,\n",
       " 'Hypertension': 304,\n",
       " 'Miscarriage in first trimester': 206,\n",
       " 'Tubal pregnancy': 28,\n",
       " 'Seizure disorder': 52,\n",
       " 'History of single seizure (situation)': 52,\n",
       " 'Epilepsy': 28,\n",
       " 'Malignant neoplasm of breast (disorder)': 27,\n",
       " 'Body mass index 30+ - obesity (finding)': 359,\n",
       " 'Normal pregnancy': 191,\n",
       " 'Fetus with unknown complication': 49,\n",
       " 'Hyperlipidemia': 118,\n",
       " 'Atrial Fibrillation': 44,\n",
       " 'Prediabetes': 332,\n",
       " 'Anemia (disorder)': 325,\n",
       " 'Diabetes': 88,\n",
       " 'Hyperglycemia (disorder)': 42,\n",
       " 'Hypertriglyceridemia (disorder)': 85,\n",
       " 'Metabolic syndrome X (disorder)': 84,\n",
       " 'Chronic kidney disease stage 1 (disorder)': 41,\n",
       " 'Diabetic renal disease (disorder)': 43,\n",
       " 'Osteoarthritis of hip': 24,\n",
       " 'Stroke': 48,\n",
       " 'Opioid abuse (disorder)': 8,\n",
       " 'Alcoholism': 7,\n",
       " 'Neoplasm of prostate': 27,\n",
       " 'Carcinoma in situ of prostate (disorder)': 23,\n",
       " 'Acute bronchitis (disorder)': 455,\n",
       " 'Suspected lung cancer (situation)': 8,\n",
       " 'Non-small cell lung cancer (disorder)': 8,\n",
       " 'Non-small cell carcinoma of lung, TNM stage 1 (disorder)': 8,\n",
       " 'Streptococcal sore throat (disorder)': 136,\n",
       " 'Fracture of forearm': 33,\n",
       " 'Viral sinusitis (disorder)': 723,\n",
       " 'Acute viral pharyngitis (disorder)': 520,\n",
       " 'Sprain of wrist': 45,\n",
       " 'First degree burn': 24,\n",
       " 'Whiplash injury to neck': 51,\n",
       " 'Coronary Heart Disease': 60,\n",
       " 'Appendicitis': 51,\n",
       " 'History of appendectomy': 51,\n",
       " 'Polyp of colon': 70,\n",
       " 'Chronic sinusitis (disorder)': 246,\n",
       " 'Escherichia coli urinary tract infection': 28,\n",
       " 'Antepartum eclampsia': 33,\n",
       " 'Preeclampsia': 24,\n",
       " 'Chronic congestive heart failure (disorder)': 57,\n",
       " 'Facial laceration': 38,\n",
       " 'Osteoporosis (disorder)': 67,\n",
       " 'Fracture subluxation of wrist': 25,\n",
       " 'Pathological fracture due to osteoporosis (disorder)': 26,\n",
       " 'Laceration of thigh': 35,\n",
       " 'Cardiac Arrest': 42,\n",
       " 'History of cardiac arrest (situation)': 42,\n",
       " 'Chronic intractable migraine without aura': 48,\n",
       " 'Concussion with no loss of consciousness': 64,\n",
       " 'Sprain of ankle': 110,\n",
       " 'Laceration of forearm': 38,\n",
       " 'Child attention deficit disorder': 13,\n",
       " 'Drug overdose': 48,\n",
       " 'Injury of tendon of the rotator cuff of shoulder': 18,\n",
       " 'Acute bacterial sinusitis (disorder)': 69,\n",
       " 'Bullet wound': 5,\n",
       " 'Metastasis from malignant tumor of prostate (disorder)': 6,\n",
       " 'Second degree burn': 17,\n",
       " 'Sinusitis (disorder)': 74,\n",
       " 'Perennial allergic rhinitis': 32,\n",
       " 'Fracture of clavicle': 44,\n",
       " 'Localized, primary osteoarthritis of the hand': 28,\n",
       " 'Concussion with loss of consciousness': 20,\n",
       " 'Osteoarthritis of knee': 65,\n",
       " \"Alzheimer's disease (disorder)\": 33,\n",
       " 'Pneumonia': 14,\n",
       " 'Tear of meniscus of knee': 5,\n",
       " 'Pulmonary emphysema (disorder)': 17,\n",
       " 'Seasonal allergic rhinitis': 11,\n",
       " 'Atopic dermatitis': 25,\n",
       " 'Acute allergic reaction': 21,\n",
       " 'Perennial allergic rhinitis with seasonal variation': 36,\n",
       " 'Fracture of ankle': 46,\n",
       " 'Brain damage - traumatic': 6,\n",
       " 'Recurrent urinary tract infection': 12,\n",
       " 'Chronic pain': 58,\n",
       " 'Fracture of rib': 14,\n",
       " 'Laceration of hand': 24,\n",
       " 'Diabetic retinopathy associated with type II diabetes mellitus (disorder)': 24,\n",
       " 'Nonproliferative diabetic retinopathy due to type 2 diabetes mellitus (disorder)': 15,\n",
       " 'Macular edema and retinopathy due to type 2 diabetes mellitus (disorder)': 6,\n",
       " 'Neuropathy due to type 2 diabetes mellitus (disorder)': 34,\n",
       " 'Contact dermatitis': 9,\n",
       " 'Rupture of appendix': 14,\n",
       " 'Impacted molars': 54,\n",
       " 'Myocardial Infarction': 20,\n",
       " 'History of myocardial infarction (situation)': 20,\n",
       " 'Closed fracture of hip': 19,\n",
       " 'Idiopathic atrophic hypothyroidism': 7,\n",
       " 'Concussion injury of brain': 10,\n",
       " 'Primary malignant neoplasm of colon': 4,\n",
       " 'Chronic kidney disease stage 2 (disorder)': 8,\n",
       " 'Microalbuminuria due to type 2 diabetes mellitus (disorder)': 8,\n",
       " 'Chronic obstructive bronchitis (disorder)': 8,\n",
       " 'Primary fibromyalgia syndrome': 6,\n",
       " 'Laceration of foot': 29,\n",
       " 'Injury of medial collateral ligament of knee': 8,\n",
       " 'Rupture of patellar tendon': 4,\n",
       " 'Childhood asthma': 24,\n",
       " \"Familial Alzheimer's disease of early onset (disorder)\": 6,\n",
       " 'Blighted ovum': 7,\n",
       " 'Acute Cholecystitis': 3,\n",
       " 'Cholelithiasis': 3,\n",
       " 'Bleeding from anus': 2,\n",
       " 'Protracted diarrhea': 2,\n",
       " 'Secondary malignant neoplasm of colon': 1,\n",
       " 'Cystitis': 13,\n",
       " 'Rheumatoid arthritis': 3,\n",
       " 'Smokes tobacco daily': 18,\n",
       " 'Recurrent rectal polyp': 14,\n",
       " 'Malignant tumor of colon': 6,\n",
       " 'Major depression disorder': 5,\n",
       " 'Posttraumatic stress disorder': 3,\n",
       " 'Injury of anterior cruciate ligament': 4,\n",
       " 'Gout': 10,\n",
       " 'Overlapping malignant neoplasm of colon': 1,\n",
       " 'Proliferative diabetic retinopathy due to type II diabetes mellitus (disorder)': 2,\n",
       " 'Fracture of the vertebral column with spinal cord injury': 1,\n",
       " 'Body mass index 40+ - severely obese (finding)': 1,\n",
       " 'Burn injury(morphologic abnormality)': 1,\n",
       " 'Third degree burn': 1}"
      ]
     },
     "execution_count": 23,
     "metadata": {},
     "output_type": "execute_result"
    }
   ],
   "source": [
    "cndtnCounter"
   ]
  },
  {
   "cell_type": "code",
   "execution_count": null,
   "metadata": {},
   "outputs": [],
   "source": []
  }
 ],
 "metadata": {
  "kernelspec": {
   "display_name": "Python 3",
   "language": "python",
   "name": "python3"
  },
  "language_info": {
   "codemirror_mode": {
    "name": "ipython",
    "version": 3
   },
   "file_extension": ".py",
   "mimetype": "text/x-python",
   "name": "python",
   "nbconvert_exporter": "python",
   "pygments_lexer": "ipython3",
   "version": "3.7.4"
  }
 },
 "nbformat": 4,
 "nbformat_minor": 2
}
