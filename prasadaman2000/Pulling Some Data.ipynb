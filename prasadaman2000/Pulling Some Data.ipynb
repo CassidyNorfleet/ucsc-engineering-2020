{
 "cells": [
  {
   "cell_type": "code",
   "execution_count": 5,
   "metadata": {},
   "outputs": [],
   "source": [
    "import json, os, glob\n",
    "os.chdir(\"output/fhir\")\n",
    "fileList = os.listdir()"
   ]
  },
  {
   "cell_type": "code",
   "execution_count": null,
   "metadata": {},
   "outputs": [],
   "source": [
    "import pandas as pd\n",
    "raw_data = []\n",
    "for file in fileList:\n",
    "    raw_data.append(pd.read_json(file))\n",
    "    \n",
    "training_data = {}\n",
    "\n",
    "for patient in raw_data:\n",
    "    id = patient['entry'][0]['resource']['id']\n",
    "    training_data[id] = {}\n",
    "    training_data[id]['Hospitalised'] = 0\n",
    "    training_data[id]['Body Mass Index'] = {}\n",
    "    for entry in patient['entry']:\n",
    "        resource_type = entry['resource']['resourceType']\n",
    "        if resource_type == \"Observation\":\n",
    "            category_code = entry['resource']['category'][0]['coding'][0]['code']\n",
    "            if category_code == \"vital-signs\":\n",
    "                text = entry['resource']['code']['text']\n",
    "                if text == \"Body Mass Index\":\n",
    "                    value = entry['resource']['valueQuantity']['value']\n",
    "                    date = entry['resource']['effectiveDateTime']\n",
    "                    training_data[id][text][date] = value\n",
    "        if resource_type == \"Encounter\":\n",
    "            class_code = entry['resource']['class']['code']\n",
    "            if class_code == \"IMP\" or class_code == \"EMER\":\n",
    "                training_data[id]['Hospitalised'] = 1\n",
    "                \n",
    "                \n",
    "for id in training_data:\n",
    "    print(training_data[id]['Hospitalised'])"
   ]
  },
  {
   "cell_type": "code",
   "execution_count": null,
   "metadata": {},
   "outputs": [],
   "source": []
  }
 ],
 "metadata": {
  "kernelspec": {
   "display_name": "Python 3",
   "language": "python",
   "name": "python3"
  },
  "language_info": {
   "codemirror_mode": {
    "name": "ipython",
    "version": 3
   },
   "file_extension": ".py",
   "mimetype": "text/x-python",
   "name": "python",
   "nbconvert_exporter": "python",
   "pygments_lexer": "ipython3",
   "version": "3.7.3"
  }
 },
 "nbformat": 4,
 "nbformat_minor": 2
}
