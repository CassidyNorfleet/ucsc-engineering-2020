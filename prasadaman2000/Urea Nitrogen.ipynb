{
 "cells": [
  {
   "cell_type": "code",
   "execution_count": 49,
   "metadata": {},
   "outputs": [],
   "source": [
    "import os, json\n",
    "import pandas as pd\n",
    "import numpy as np\n",
    "import matplotlib.pyplot as plt\n",
    "%matplotlib inline"
   ]
  },
  {
   "cell_type": "code",
   "execution_count": 2,
   "metadata": {},
   "outputs": [],
   "source": [
    "os.chdir(\"output/fhir\")"
   ]
  },
  {
   "cell_type": "code",
   "execution_count": 4,
   "metadata": {},
   "outputs": [],
   "source": [
    "fileList = os.listdir()"
   ]
  },
  {
   "cell_type": "code",
   "execution_count": 15,
   "metadata": {},
   "outputs": [],
   "source": [
    "patientDict = {}\n",
    "for file in fileList:\n",
    "#     print(file)\n",
    "    try:\n",
    "        f = open(file)\n",
    "        fJSON = json.load(f)\n",
    "#         print(fJSON)\n",
    "        patientName = fJSON['entry'][0]['resource']['name'][0]['given'][0] + \" \" + fJSON['entry'][0]['resource']['name'][0]['family']\n",
    "#         print(patientName)\n",
    "        patientDict[patientName] = fJSON['entry']\n",
    "        f.close()\n",
    "    except:\n",
    "        continue"
   ]
  },
  {
   "cell_type": "code",
   "execution_count": 26,
   "metadata": {},
   "outputs": [],
   "source": [
    "# split into patients with and without CHF\n",
    "chf = {}\n",
    "nonchf = {}\n",
    "for key in patientDict.keys():\n",
    "    patient = patientDict[key]\n",
    "    for entry in patient:\n",
    "        if entry['resource']['resourceType'] == \"Condition\" and entry['resource']['code']['text'] == \"Chronic congestive heart failure (disorder)\":\n",
    "            chf[key] = patient\n",
    "#             patientDict.pop(key)\n",
    "            continue\n",
    "        nonchf[key] = patient\n",
    "#         patientDict.pop(key)\n",
    "patientDict.clear()"
   ]
  },
  {
   "cell_type": "code",
   "execution_count": 61,
   "metadata": {},
   "outputs": [],
   "source": [
    "ureaNitrogenCHF = {}\n",
    "ureaNitrogenNonCHF = {}\n",
    "for key in chf.keys():\n",
    "    readings = []\n",
    "    patient = chf[key]\n",
    "    for entry in patient:\n",
    "        if entry['resource']['resourceType'] == 'Observation' and entry['resource']['code']['text'] == 'Urea Nitrogen':\n",
    "#             print(\"here\")\n",
    "            readings.append(entry['resource']['valueQuantity']['value'])\n",
    "        if len(readings) > 0:\n",
    "            ureaNitrogenCHF[key] = readings\n",
    "for key in nonchf.keys():\n",
    "    readings = []\n",
    "    patient = nonchf[key]\n",
    "    for entry in patient:\n",
    "        if entry['resource']['resourceType'] == 'Observation' and entry['resource']['code']['text'] == 'Urea Nitrogen':\n",
    "#             print(entry['resource']['valueQuantity']['value'])\n",
    "            readings.append(entry['resource']['valueQuantity']['value'])\n",
    "        if len(readings) > 0:\n",
    "            ureaNitrogenNonCHF[key] = readings"
   ]
  },
  {
   "cell_type": "code",
   "execution_count": 57,
   "metadata": {},
   "outputs": [],
   "source": [
    "nonCHFMean = []\n",
    "CHFMean = []\n",
    "for key in ureaNitrogenNonCHF.keys():\n",
    "    nonCHFMean.append(np.mean(ureaNitrogenNonCHF[key]))\n",
    "\n",
    "for key in ureaNitrogenCHF.keys():\n",
    "    CHFMean.append(np.mean(ureaNitrogenCHF[key]))"
   ]
  },
  {
   "cell_type": "code",
   "execution_count": 64,
   "metadata": {},
   "outputs": [
    {
     "data": {
      "text/plain": [
       "(array([ 1.,  3.,  6., 19., 10.,  7.,  2.,  3.,  3.,  3.]),\n",
       " array([10.42 , 11.221, 12.022, 12.823, 13.624, 14.425, 15.226, 16.027,\n",
       "        16.828, 17.629, 18.43 ]),\n",
       " <a list of 10 Patch objects>)"
      ]
     },
     "execution_count": 64,
     "metadata": {},
     "output_type": "execute_result"
    },
    {
     "data": {
      "image/png": "[encoded data removed]",
      "text/plain": [
       "<Figure size 432x288 with 1 Axes>"
      ]
     },
     "metadata": {
      "needs_background": "light"
     },
     "output_type": "display_data"
    }
   ],
   "source": [
    "plt.hist(CHFMean, bins = 10)"
   ]
  },
  {
   "cell_type": "code",
   "execution_count": 65,
   "metadata": {},
   "outputs": [
    {
     "data": {
      "text/plain": [
       "(array([ 2.,  2.,  1.,  2., 10.,  3., 27., 23., 44., 76., 77., 58., 45.,\n",
       "        17., 14., 11.,  8.,  4.,  3.,  4.]),\n",
       " array([ 8.19  ,  8.7155,  9.241 ,  9.7665, 10.292 , 10.8175, 11.343 ,\n",
       "        11.8685, 12.394 , 12.9195, 13.445 , 13.9705, 14.496 , 15.0215,\n",
       "        15.547 , 16.0725, 16.598 , 17.1235, 17.649 , 18.1745, 18.7   ]),\n",
       " <a list of 20 Patch objects>)"
      ]
     },
     "execution_count": 65,
     "metadata": {},
     "output_type": "execute_result"
    },
    {
     "data": {
      "image/png": "[encoded data removed]",
      "text/plain": [
       "<Figure size 432x288 with 1 Axes>"
      ]
     },
     "metadata": {
      "needs_background": "light"
     },
     "output_type": "display_data"
    }
   ],
   "source": [
    "plt.hist(nonCHFMean, bins = 20)"
   ]
  },
  {
   "cell_type": "code",
   "execution_count": 60,
   "metadata": {},
   "outputs": [
    {
     "name": "stdout",
     "output_type": "stream",
     "text": [
      "Mean Urea Nitrogen for patients with CHF:  14.04197723981607\n",
      "Mean Urea Nitrogen for patients without CHF:  13.686823573205077\n"
     ]
    }
   ],
   "source": [
    "print(\"Mean Urea Nitrogen for patients with CHF: \", np.mean(CHFMean))\n",
    "print(\"Mean Urea Nitrogen for patients without CHF: \", np.mean(nonCHFMean))"
   ]
  },
  {
   "cell_type": "code",
   "execution_count": 66,
   "metadata": {},
   "outputs": [
    {
     "data": {
      "text/plain": [
       "57"
      ]
     },
     "execution_count": 66,
     "metadata": {},
     "output_type": "execute_result"
    }
   ],
   "source": [
    "len(CHFMean)"
   ]
  },
  {
   "cell_type": "code",
   "execution_count": 67,
   "metadata": {},
   "outputs": [
    {
     "data": {
      "text/plain": [
       "431"
      ]
     },
     "execution_count": 67,
     "metadata": {},
     "output_type": "execute_result"
    }
   ],
   "source": [
    "len(nonCHFMean)"
   ]
  },
  {
   "cell_type": "code",
   "execution_count": null,
   "metadata": {},
   "outputs": [],
   "source": []
  }
 ],
 "metadata": {
  "kernelspec": {
   "display_name": "Python 3",
   "language": "python",
   "name": "python3"
  },
  "language_info": {
   "codemirror_mode": {
    "name": "ipython",
    "version": 3
   },
   "file_extension": ".py",
   "mimetype": "text/x-python",
   "name": "python",
   "nbconvert_exporter": "python",
   "pygments_lexer": "ipython3",
   "version": "3.7.3"
  }
 },
 "nbformat": 4,
 "nbformat_minor": 2
}
