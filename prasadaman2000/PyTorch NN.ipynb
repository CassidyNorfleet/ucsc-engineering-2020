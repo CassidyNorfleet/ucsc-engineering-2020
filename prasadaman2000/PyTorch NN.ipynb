{
 "cells": [
  {
   "cell_type": "code",
   "execution_count": 1,
   "metadata": {},
   "outputs": [],
   "source": [
    "import torch, os\n",
    "import pandas as pd\n",
    "import torch.nn as nn\n",
    "import numpy as np\n",
    "from torch import optim, as_tensor\n",
    "from torch.utils.data import Dataset, DataLoader\n",
    "import torch.nn.functional as F\n",
    "from torch.autograd import Variable"
   ]
  },
  {
   "cell_type": "code",
   "execution_count": 2,
   "metadata": {},
   "outputs": [],
   "source": [
    "os.chdir('data/MNIST')"
   ]
  },
  {
   "cell_type": "code",
   "execution_count": 3,
   "metadata": {},
   "outputs": [],
   "source": [
    "trainData = pd.read_csv(\"train.csv\")"
   ]
  },
  {
   "cell_type": "code",
   "execution_count": 4,
   "metadata": {},
   "outputs": [],
   "source": [
    "trainLabels = trainData['label']\n",
    "trainData = trainData.drop(columns = \"label\")\n",
    "trainData /= 255"
   ]
  },
  {
   "cell_type": "code",
   "execution_count": 5,
   "metadata": {},
   "outputs": [],
   "source": [
    "train_tensor = torch.tensor(trainData.values, dtype = torch.double)\n",
    "label_tensor = torch.tensor(trainLabels.values, dtype = torch.double)\n",
    "train_data = [(train_tensor[i], label_tensor[i]) for i in range(train_tensor.size()[0])]"
   ]
  },
  {
   "cell_type": "code",
   "execution_count": 62,
   "metadata": {},
   "outputs": [
    {
     "data": {
      "text/plain": [
       "tensor([[0., 0., 0.,  ..., 0., 0., 0.],\n",
       "        [0., 0., 0.,  ..., 0., 0., 0.],\n",
       "        [0., 0., 0.,  ..., 0., 0., 0.],\n",
       "        ...,\n",
       "        [0., 0., 0.,  ..., 0., 0., 0.],\n",
       "        [0., 0., 0.,  ..., 0., 0., 0.],\n",
       "        [0., 0., 0.,  ..., 0., 0., 0.]], dtype=torch.float64)"
      ]
     },
     "execution_count": 62,
     "metadata": {},
     "output_type": "execute_result"
    }
   ],
   "source": []
  },
  {
   "cell_type": "code",
   "execution_count": 6,
   "metadata": {},
   "outputs": [],
   "source": [
    "class DigNet(nn.Module):\n",
    "    def __init__(self, input_size, hidden1_size, hidden2_size, num_classes):\n",
    "        super(DigNet, self).__init__()\n",
    "        self.fc1 = nn.Linear(input_size, hidden1_size)\n",
    "        self.sigmoid = nn.LogSigmoid()\n",
    "        self.fc2 = nn.Linear(hidden1_size, hidden2_size)\n",
    "        self.relu = nn.LogSigmoid()\n",
    "        self.out = nn.Linear(hidden2_size, num_classes)\n",
    "        \n",
    "    def forward(self, x):\n",
    "#         print(x)\n",
    "        x = self.fc1(x)\n",
    "        x = self.sigmoid(x)\n",
    "        x = self.fc2(x)\n",
    "        x = self.relu(x)\n",
    "        x = self.out(x)\n",
    "        return x"
   ]
  },
  {
   "cell_type": "code",
   "execution_count": 7,
   "metadata": {},
   "outputs": [],
   "source": [
    "model = DigNet(784, 128, 64, 10)\n",
    "model.double()\n",
    "optimizer = optim.SGD(model.parameters(), lr=0.01)\n",
    "num_epochs = 20"
   ]
  },
  {
   "cell_type": "code",
   "execution_count": 8,
   "metadata": {},
   "outputs": [],
   "source": [
    "batch_size = 60"
   ]
  },
  {
   "cell_type": "code",
   "execution_count": 15,
   "metadata": {},
   "outputs": [],
   "source": [
    "# train_dataset = torch.utils.data.Dataset(train_tensor, label_tensor)\n",
    "train_loader = torch.utils.data.DataLoader(dataset=train_data, batch_size = batch_size, shuffle=True)\n",
    "criterion = nn.MultiMarginLoss()"
   ]
  },
  {
   "cell_type": "code",
   "execution_count": 16,
   "metadata": {
    "scrolled": true
   },
   "outputs": [
    {
     "name": "stdout",
     "output_type": "stream",
     "text": [
      "Training loss:  0.042853108195381566\n",
      "Training loss:  0.04133493235258021\n",
      "Training loss:  0.04010300387760289\n",
      "Training loss:  0.03925055116147189\n",
      "Training loss:  0.03839277754496969\n",
      "Training loss:  0.03774919940877181\n",
      "Training loss:  0.03703431773681874\n",
      "Training loss:  0.03654452258394984\n",
      "Training loss:  0.03598596240489548\n",
      "Training loss:  0.03543897179744871\n",
      "Training loss:  0.03501453179254215\n",
      "Training loss:  0.034586211437259776\n",
      "Training loss:  0.03421094804778814\n",
      "Training loss:  0.03384455658176753\n",
      "Training loss:  0.0335574092631456\n",
      "Training loss:  0.03317058751516652\n",
      "Training loss:  0.03285326086903233\n",
      "Training loss:  0.03259500180563407\n",
      "Training loss:  0.03234241298730763\n",
      "Training loss:  0.032068022015047916\n"
     ]
    }
   ],
   "source": [
    "for i in range(num_epochs):\n",
    "    cum_loss = 0\n",
    "    for inputs, labels in train_loader:\n",
    "#         print(inputs)\n",
    "        optimizer.zero_grad()\n",
    "#         print(inputs.size())\n",
    "        output = model(inputs)\n",
    "#         print(output)\n",
    "#         output = output.long()\n",
    "#         print(output)\n",
    "            \n",
    "        loss = criterion(output, labels.long())\n",
    "        loss.backward()\n",
    "        optimizer.step()\n",
    "        \n",
    "        cum_loss += loss.item()\n",
    "        \n",
    "    print(\"Training loss: \", cum_loss / len(train_loader))"
   ]
  },
  {
   "cell_type": "code",
   "execution_count": 23,
   "metadata": {},
   "outputs": [
    {
     "data": {
      "text/plain": [
       "1"
      ]
     },
     "execution_count": 23,
     "metadata": {},
     "output_type": "execute_result"
    }
   ],
   "source": [
    "with torch.no_grad():\n",
    "    \n",
    "        model(train_data[0][0]).max(0)[1].item()"
   ]
  },
  {
   "cell_type": "code",
   "execution_count": null,
   "metadata": {},
   "outputs": [],
   "source": []
  }
 ],
 "metadata": {
  "kernelspec": {
   "display_name": "Python 3",
   "language": "python",
   "name": "python3"
  },
  "language_info": {
   "codemirror_mode": {
    "name": "ipython",
    "version": 3
   },
   "file_extension": ".py",
   "mimetype": "text/x-python",
   "name": "python",
   "nbconvert_exporter": "python",
   "pygments_lexer": "ipython3",
   "version": "3.7.3"
  }
 },
 "nbformat": 4,
 "nbformat_minor": 2
}
