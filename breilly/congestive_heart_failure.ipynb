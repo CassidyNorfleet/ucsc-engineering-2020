import numpy as np
import matplotlib.pyplot as plt
%matplotlib inline

import glob
import json
import pandas as pd
smoking = 0
nonsmoking = 0
for file in glob.glob('json/*.json'):
    data = pd.read_json(file)
    for i in range(data['entry'].count()):
        if(data['entry'][i]['resource']['resourceType'] == "Observation"):
            if(data['entry'][i]['resource']['code']['text'] == "Tobacco smoking status NHIS"):
                if (data['entry'][i]['resource']['valueCodeableConcept']['coding'][0]['display'] == "Former smoker"):
                    smoking +=1
                if (data['entry'][i]['resource']['valueCodeableConcept']['coding'][0]['display'] == "Never smoker"):
                    nonsmoking +=1
                break

labels = ['Smokers', 'Non-Smokers']
sizes = [smoking, nonsmoking]
fig, ax = plt.subplots()
ax.pie(sizes, labels=labels, explode=(0.1, 0.1), autopct='%1.1f%%')
ax.axis('equal')
ax.set_title('Percentage of Smokers from Data Set')

plt.show()
