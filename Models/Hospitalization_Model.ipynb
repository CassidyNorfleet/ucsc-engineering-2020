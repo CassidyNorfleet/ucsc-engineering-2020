{
  "nbformat": 4,
  "nbformat_minor": 0,
  "metadata": {
    "colab": {
      "name": "Hospitalization Model",
      "provenance": [],
      "toc_visible": true
    },
    "kernelspec": {
      "name": "python3",
      "display_name": "Python 3"
    },
    "accelerator": "GPU"
  },
  "cells": [
    {
      "cell_type": "code",
      "metadata": {
        "id": "aMDW6_lPVgJQ",
        "colab_type": "code",
        "colab": {}
      },
      "source": [
        "import torch, os\n",
        "import pandas as pd\n",
        "import torch.nn as nn\n",
        "from torch import optim, as_tensor\n",
        "from torch.utils.data import Dataset, DataLoader\n",
        "import numpy as np\n",
        "import torch.nn.functional as F\n",
        "from torch.autograd import Variable"
      ],
      "execution_count": 0,
      "outputs": []
    },
    {
      "cell_type": "code",
      "metadata": {
        "id": "JVDqt1AD6akq",
        "colab_type": "code",
        "colab": {}
      },
      "source": [
        "data = pd.read_csv(\"BMITrain.csv\")"
      ],
      "execution_count": 0,
      "outputs": []
    },
    {
      "cell_type": "code",
      "metadata": {
        "id": "RwtwiPiuCxLH",
        "colab_type": "code",
        "colab": {
          "base_uri": "https://localhost:8080/",
          "height": 417
        },
        "outputId": "9eca42cc-db77-4b3c-c03b-60dde6da93cf"
      },
      "source": [
        "data"
      ],
      "execution_count": 50,
      "outputs": [
        {
          "output_type": "execute_result",
          "data": {
            "text/html": [
              "<div>\n",
              "<style scoped>\n",
              "    .dataframe tbody tr th:only-of-type {\n",
              "        vertical-align: middle;\n",
              "    }\n",
              "\n",
              "    .dataframe tbody tr th {\n",
              "        vertical-align: top;\n",
              "    }\n",
              "\n",
              "    .dataframe thead th {\n",
              "        text-align: right;\n",
              "    }\n",
              "</style>\n",
              "<table border=\"1\" class=\"dataframe\">\n",
              "  <thead>\n",
              "    <tr style=\"text-align: right;\">\n",
              "      <th></th>\n",
              "      <th>Unnamed: 0</th>\n",
              "      <th>BPDiastolic</th>\n",
              "      <th>BPSystolic</th>\n",
              "      <th>CHF</th>\n",
              "      <th>ageGT50</th>\n",
              "      <th>hosp</th>\n",
              "      <th>maxBMI</th>\n",
              "    </tr>\n",
              "  </thead>\n",
              "  <tbody>\n",
              "    <tr>\n",
              "      <th>0</th>\n",
              "      <td>ac174ae7-1214-4bc5-9156-c635e2126439</td>\n",
              "      <td>87.0</td>\n",
              "      <td>132.0</td>\n",
              "      <td>0.0</td>\n",
              "      <td>0.0</td>\n",
              "      <td>0.0</td>\n",
              "      <td>18.16</td>\n",
              "    </tr>\n",
              "    <tr>\n",
              "      <th>1</th>\n",
              "      <td>94825d13-fe19-429e-9d50-bb72c4e46d9b</td>\n",
              "      <td>121.0</td>\n",
              "      <td>196.0</td>\n",
              "      <td>0.0</td>\n",
              "      <td>1.0</td>\n",
              "      <td>1.0</td>\n",
              "      <td>30.43</td>\n",
              "    </tr>\n",
              "    <tr>\n",
              "      <th>2</th>\n",
              "      <td>9c861c04-8696-441b-b11c-7d9503ecdde7</td>\n",
              "      <td>88.0</td>\n",
              "      <td>139.0</td>\n",
              "      <td>0.0</td>\n",
              "      <td>1.0</td>\n",
              "      <td>1.0</td>\n",
              "      <td>30.06</td>\n",
              "    </tr>\n",
              "    <tr>\n",
              "      <th>3</th>\n",
              "      <td>8c6ddf8a-b4be-492e-b575-184c836c4f96</td>\n",
              "      <td>88.0</td>\n",
              "      <td>129.0</td>\n",
              "      <td>0.0</td>\n",
              "      <td>0.0</td>\n",
              "      <td>1.0</td>\n",
              "      <td>30.56</td>\n",
              "    </tr>\n",
              "    <tr>\n",
              "      <th>4</th>\n",
              "      <td>61f162b6-f583-4507-ba9f-b2fc13106d1d</td>\n",
              "      <td>87.0</td>\n",
              "      <td>131.0</td>\n",
              "      <td>0.0</td>\n",
              "      <td>0.0</td>\n",
              "      <td>1.0</td>\n",
              "      <td>21.35</td>\n",
              "    </tr>\n",
              "    <tr>\n",
              "      <th>...</th>\n",
              "      <td>...</td>\n",
              "      <td>...</td>\n",
              "      <td>...</td>\n",
              "      <td>...</td>\n",
              "      <td>...</td>\n",
              "      <td>...</td>\n",
              "      <td>...</td>\n",
              "    </tr>\n",
              "    <tr>\n",
              "      <th>1135</th>\n",
              "      <td>2804b06d-e7a7-4a93-a320-d69474109025</td>\n",
              "      <td>87.0</td>\n",
              "      <td>127.0</td>\n",
              "      <td>0.0</td>\n",
              "      <td>1.0</td>\n",
              "      <td>1.0</td>\n",
              "      <td>27.77</td>\n",
              "    </tr>\n",
              "    <tr>\n",
              "      <th>1136</th>\n",
              "      <td>a2727847-23ea-4c2e-86d4-5dc918b7bb37</td>\n",
              "      <td>89.0</td>\n",
              "      <td>132.0</td>\n",
              "      <td>0.0</td>\n",
              "      <td>0.0</td>\n",
              "      <td>1.0</td>\n",
              "      <td>17.49</td>\n",
              "    </tr>\n",
              "    <tr>\n",
              "      <th>1137</th>\n",
              "      <td>cf31dbbb-e63c-4a8f-b4b6-3fecff315a0f</td>\n",
              "      <td>84.0</td>\n",
              "      <td>138.0</td>\n",
              "      <td>0.0</td>\n",
              "      <td>0.0</td>\n",
              "      <td>0.0</td>\n",
              "      <td>28.01</td>\n",
              "    </tr>\n",
              "    <tr>\n",
              "      <th>1138</th>\n",
              "      <td>82004240-285f-42d7-8b87-1b56a0a54a5f</td>\n",
              "      <td>88.0</td>\n",
              "      <td>136.0</td>\n",
              "      <td>4.0</td>\n",
              "      <td>1.0</td>\n",
              "      <td>1.0</td>\n",
              "      <td>27.85</td>\n",
              "    </tr>\n",
              "    <tr>\n",
              "      <th>1139</th>\n",
              "      <td>aa13cce6-be63-45c1-85b3-e4ba0a812690</td>\n",
              "      <td>84.0</td>\n",
              "      <td>134.0</td>\n",
              "      <td>0.0</td>\n",
              "      <td>1.0</td>\n",
              "      <td>0.0</td>\n",
              "      <td>30.37</td>\n",
              "    </tr>\n",
              "  </tbody>\n",
              "</table>\n",
              "<p>1140 rows × 7 columns</p>\n",
              "</div>"
            ],
            "text/plain": [
              "                                Unnamed: 0  BPDiastolic  ...  hosp  maxBMI\n",
              "0     ac174ae7-1214-4bc5-9156-c635e2126439         87.0  ...   0.0   18.16\n",
              "1     94825d13-fe19-429e-9d50-bb72c4e46d9b        121.0  ...   1.0   30.43\n",
              "2     9c861c04-8696-441b-b11c-7d9503ecdde7         88.0  ...   1.0   30.06\n",
              "3     8c6ddf8a-b4be-492e-b575-184c836c4f96         88.0  ...   1.0   30.56\n",
              "4     61f162b6-f583-4507-ba9f-b2fc13106d1d         87.0  ...   1.0   21.35\n",
              "...                                    ...          ...  ...   ...     ...\n",
              "1135  2804b06d-e7a7-4a93-a320-d69474109025         87.0  ...   1.0   27.77\n",
              "1136  a2727847-23ea-4c2e-86d4-5dc918b7bb37         89.0  ...   1.0   17.49\n",
              "1137  cf31dbbb-e63c-4a8f-b4b6-3fecff315a0f         84.0  ...   0.0   28.01\n",
              "1138  82004240-285f-42d7-8b87-1b56a0a54a5f         88.0  ...   1.0   27.85\n",
              "1139  aa13cce6-be63-45c1-85b3-e4ba0a812690         84.0  ...   0.0   30.37\n",
              "\n",
              "[1140 rows x 7 columns]"
            ]
          },
          "metadata": {
            "tags": []
          },
          "execution_count": 50
        }
      ]
    },
    {
      "cell_type": "code",
      "metadata": {
        "id": "JooakCcy6oos",
        "colab_type": "code",
        "colab": {}
      },
      "source": [
        "num_patients = data.shape[0]\n",
        "train_df = data[:int(num_patients*0.5)]\n",
        "test_df = data[int(num_patients*0.5):]\n",
        "train_labels = train_df['hosp']\n",
        "test_labels = test_df['hosp']\n",
        "train_data = train_df.drop(columns=\"hosp\")\n",
        "train_data = train_df.drop(columns=\"Unnamed: 0\")\n",
        "test_data = test_df.drop(columns=\"hosp\")\n",
        "test_data = test_df.drop(columns=\"Unnamed: 0\")"
      ],
      "execution_count": 0,
      "outputs": []
    },
    {
      "cell_type": "code",
      "metadata": {
        "id": "8uf-O4ou6o3L",
        "colab_type": "code",
        "colab": {}
      },
      "source": [
        "temp_tensor = torch.tensor(train_data.values)\n",
        "label_tensor = torch.tensor(train_labels, dtype=torch.long)\n",
        "test_tensor = torch.tensor(test_data.values)\n",
        "test_label_tensor = torch.tensor(test_labels.values, dtype=torch.long)"
      ],
      "execution_count": 0,
      "outputs": []
    },
    {
      "cell_type": "code",
      "metadata": {
        "id": "WFCkGzgi6pBi",
        "colab_type": "code",
        "colab": {}
      },
      "source": [
        "train_data = [(temp_tensor[i], label_tensor[i]) for i in range(temp_tensor.size()[0])]\n",
        "test_data = [(test_tensor[i], test_label_tensor[i]) for i in range(test_tensor.size()[0])]"
      ],
      "execution_count": 0,
      "outputs": []
    },
    {
      "cell_type": "code",
      "metadata": {
        "id": "hJq7hjXYWfyr",
        "colab_type": "code",
        "colab": {}
      },
      "source": [
        "class Brain(nn.Module):\n",
        "    def __init__(self, input_size, hidden1_size, hidden2_size, num_classes):\n",
        "        super(Brain, self).__init__()\n",
        "        self.fc1= nn.Linear(input_size, hidden1_size)\n",
        "        self.ReLU1 = nn.ReLU()\n",
        "        self.fc2 = nn.Linear(hidden1_size, hidden2_size)\n",
        "        self.ReLU2 = nn.ReLU()\n",
        "        self.fc3 = nn.Linear(hidden2_size, num_classes)\n",
        "    \n",
        "    def  forward(self,x):\n",
        "        out = self.fc1(x)\n",
        "        out = self.ReLU1(out)\n",
        "        out = self.fc2(out)\n",
        "        out = self.ReLU2(out)\n",
        "        out = self.fc3(out)\n",
        "        return out"
      ],
      "execution_count": 0,
      "outputs": []
    },
    {
      "cell_type": "code",
      "metadata": {
        "id": "Z03IKkpji0U3",
        "colab_type": "code",
        "outputId": "35169316-f449-48be-f61e-80efd4205100",
        "colab": {
          "base_uri": "https://localhost:8080/",
          "height": 140
        }
      },
      "source": [
        "model = Brain(6, 64, 32, 2)\n",
        "model.double()\n",
        "#lr = learning rate \n",
        "optimizer = optim.SGD(model.parameters(), lr = 0.001)\n",
        "num_epochs = 30\n",
        "print(model)"
      ],
      "execution_count": 55,
      "outputs": [
        {
          "output_type": "stream",
          "text": [
            "Brain(\n",
            "  (fc1): Linear(in_features=6, out_features=64, bias=True)\n",
            "  (ReLU1): ReLU()\n",
            "  (fc2): Linear(in_features=64, out_features=32, bias=True)\n",
            "  (ReLU2): ReLU()\n",
            "  (fc3): Linear(in_features=32, out_features=2, bias=True)\n",
            ")\n"
          ],
          "name": "stdout"
        }
      ]
    },
    {
      "cell_type": "code",
      "metadata": {
        "id": "BjTB_FNqjJ-q",
        "colab_type": "code",
        "colab": {}
      },
      "source": [
        "batch_size = 30\n",
        "train_loader = torch.utils.data.DataLoader(dataset=train_data, batch_size = batch_size, shuffle = True)\n",
        "#test_loader = torch.utils.data.DataLoader(dataset=testData, batch_size = batch_size, shuffle = True)\n",
        "criterion = nn.CrossEntropyLoss()"
      ],
      "execution_count": 0,
      "outputs": []
    },
    {
      "cell_type": "code",
      "metadata": {
        "id": "O6LBY30KjMLC",
        "colab_type": "code",
        "outputId": "9251794d-15a3-43b1-937d-6e82e81ac692",
        "colab": {
          "base_uri": "https://localhost:8080/",
          "height": 545
        }
      },
      "source": [
        "for i in range(num_epochs):\n",
        "    cum_loss = 0\n",
        "    for inputs, labels in train_loader:\n",
        "        # print(inputs)\n",
        "        optimizer.zero_grad()\n",
        "       # print(inputs.size())\n",
        "        output = model(inputs)\n",
        "#         output = output.long()\n",
        "      #  print(output)\n",
        "        loss = criterion(output, labels.long())\n",
        "        loss.backward()\n",
        "        optimizer.step()\n",
        "        \n",
        "        cum_loss += loss.item()\n",
        "        \n",
        "    print(\"Training loss: \", cum_loss / len(train_loader))"
      ],
      "execution_count": 57,
      "outputs": [
        {
          "output_type": "stream",
          "text": [
            "Training loss:  1.0900006945408958\n",
            "Training loss:  0.7609092496251955\n",
            "Training loss:  0.6508661278899437\n",
            "Training loss:  0.6847429419770223\n",
            "Training loss:  0.6540507350101431\n",
            "Training loss:  0.6437021570293983\n",
            "Training loss:  0.6433885254886672\n",
            "Training loss:  0.6522913488347756\n",
            "Training loss:  0.6643187619809778\n",
            "Training loss:  0.640735991251198\n",
            "Training loss:  0.5932598850733496\n",
            "Training loss:  0.6032984341028599\n",
            "Training loss:  0.5829715432192799\n",
            "Training loss:  0.6261583121749313\n",
            "Training loss:  0.6100364811889968\n",
            "Training loss:  0.6125167730772397\n",
            "Training loss:  0.5933416571198147\n",
            "Training loss:  0.579904729900017\n",
            "Training loss:  0.5933814072440359\n",
            "Training loss:  0.6102990508646668\n",
            "Training loss:  0.596419441826124\n",
            "Training loss:  0.5840664288222651\n",
            "Training loss:  0.5951678200678568\n",
            "Training loss:  0.5712902151620829\n",
            "Training loss:  0.5746385930807251\n",
            "Training loss:  0.5789251626177034\n",
            "Training loss:  0.5887023317110696\n",
            "Training loss:  0.5870268516015947\n",
            "Training loss:  0.5813056445437589\n",
            "Training loss:  0.5782463911594821\n"
          ],
          "name": "stdout"
        }
      ]
    },
    {
      "cell_type": "code",
      "metadata": {
        "id": "0Do8YCokjOvB",
        "colab_type": "code",
        "outputId": "a5ccaa42-1320-43b4-e7a0-a1d3145bafec",
        "colab": {
          "base_uri": "https://localhost:8080/",
          "height": 52
        }
      },
      "source": [
        "with torch.no_grad():\n",
        "  numCorrect = 0\n",
        "  numTotal = 0\n",
        "  for item, label in train_data:\n",
        "      prediction = model(item).max(0)[1].item()\n",
        "      # if prediction == 0: print(prediction)\n",
        "      if prediction == label:\n",
        "        numCorrect += 1\n",
        "      numTotal += 1\n",
        "  print(\"Accuracy = \", (numCorrect / numTotal))\n",
        "  print(\"Correct/Total:\", numCorrect, \"/\", numTotal)"
      ],
      "execution_count": 58,
      "outputs": [
        {
          "output_type": "stream",
          "text": [
            "Accuracy =  0.7210526315789474\n",
            "Correct/Total: 411 / 570\n"
          ],
          "name": "stdout"
        }
      ]
    },
    {
      "cell_type": "code",
      "metadata": {
        "id": "q5VY2fVasm9v",
        "colab_type": "code",
        "colab": {}
      },
      "source": [
        ""
      ],
      "execution_count": 0,
      "outputs": []
    }
  ]
}