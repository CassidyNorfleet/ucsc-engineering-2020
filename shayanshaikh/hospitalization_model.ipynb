{
 "cells": [
  {
   "cell_type": "markdown",
   "metadata": {
    "pycharm": {
     "name": "#%% md\n"
    }
   },
   "source": [
    "# Hospitalization Model"
   ]
  },
  {
   "cell_type": "code",
   "execution_count": 4,
   "metadata": {
    "pycharm": {
     "is_executing": false,
     "name": "#%%\n"
    }
   },
   "outputs": [],
   "source": [
    "import glob\n",
    "import torch, os\n",
    "import pandas as pd\n",
    "import torch.nn as nn\n",
    "from torch import optim, as_tensor\n",
    "from torch.utils.data import Dataset, DataLoader\n",
    "import numpy as np\n",
    "import torch.nn.functional as F\n",
    "from torch.autograd import Variable\n",
    "from sklearn.model_selection import train_test_split"
   ]
  },
  {
   "cell_type": "markdown",
   "metadata": {
    "pycharm": {
     "name": "#%% md\n"
    }
   },
   "source": [
    "### Getting all patient data"
   ]
  },
  {
   "cell_type": "code",
   "execution_count": null,
   "metadata": {},
   "outputs": [],
   "source": [
    "raw_data = []\n",
    "for file in glob.glob('fhir/general/*'):\n",
    "    raw_data.append(pd.read_json(file))"
   ]
  },
  {
   "cell_type": "markdown",
   "metadata": {
    "pycharm": {
     "name": "#%% md\n"
    }
   },
   "source": [
    "### Rebuilding data to include only features"
   ]
  },
  {
   "cell_type": "code",
   "execution_count": null,
   "metadata": {},
   "outputs": [],
   "source": [
    "training_data = {}\n",
    "for patient in raw_data:\n",
    "    id = patient['entry'][0]['resource']['id']\n",
    "    training_data[id] = {}\n",
    "    training_data[id]['Age'] = -1\n",
    "    training_data[id]['Age Over 50'] = 0\n",
    "    training_data[id]['Hospitalized'] = 0\n",
    "    training_data[id]['Prediabetes'] = 0\n",
    "    training_data[id]['CHF'] = 0 # number of times patient had congestive heart failure\n",
    "    training_data[id]['Body Mass Index'] = {}\n",
    "    training_data[id]['Diastolic'] = {}\n",
    "    training_data[id]['Systolic'] = {}\n",
    "    for entry in patient['entry']:\n",
    "        if 'birthDate' in entry['resource']:\n",
    "            training_data[id]['Age'] = 2020 - (int)(entry['resource']['birthDate'][0:4])\n",
    "            if training_data[id]['Age'] > 50:\n",
    "                training_data[id]['Age Over 50'] = 1\n",
    "    \n",
    "        resource_type = entry['resource']['resourceType']\n",
    "        if resource_type == \"Observation\":\n",
    "            category_code = entry['resource']['category'][0]['coding'][0]['code']\n",
    "            if category_code == \"vital-signs\":\n",
    "                display = entry['resource']['code']['text']\n",
    "                if display == \"Body Mass Index\":\n",
    "                    value = entry['resource']['valueQuantity']['value']\n",
    "                    date = entry['resource']['effectiveDateTime']\n",
    "                    training_data[id][display][date] = value\n",
    "                if display == \"Blood Pressure\":\n",
    "                    diastolic_val = entry['resource']['component'][0]['valueQuantity']['value']\n",
    "                    systolic_val = entry['resource']['component'][1]['valueQuantity']['value']\n",
    "                    date = entry['resource']['effectiveDateTime']\n",
    "                    training_data[id]['Diastolic'][date] = diastolic_val\n",
    "                    training_data[id]['Systolic'][date] = systolic_val\n",
    "                    \n",
    "                    \n",
    "        if resource_type == \"Encounter\":\n",
    "            class_code = entry['resource']['class']['code']\n",
    "            if class_code == \"IMP\" or class_code == \"EMER\":\n",
    "                training_data[id]['Hospitalized'] += 1\n",
    "            try:\n",
    "                reason = entry['resource']['reasonCode'][0]['coding'][0]['display']\n",
    "                if reason == \"Chronic congestive heart failure (disorder)\":\n",
    "                    training_data[id]['CHF'] += 1\n",
    "            except:\n",
    "                continue\n",
    "                \n",
    "        if resource_type == \"Condition\":\n",
    "            display = entry['resource']['code']['coding'][0]['display']\n",
    "            if display == 'Prediabetes':\n",
    "                training_data[id]['Prediabetes'] += 1"
   ]
  },
  {
   "cell_type": "markdown",
   "metadata": {
    "pycharm": {
     "name": "#%% md\n"
    }
   },
   "source": [
    "### Finding max value for BMI and BP features"
   ]
  },
  {
   "cell_type": "code",
   "execution_count": 5,
   "metadata": {
    "pycharm": {
     "is_executing": false,
     "name": "#%%\n"
    }
   },
   "outputs": [],
   "source": [
    "missing_data = []\n",
    "for id in training_data:\n",
    "    if training_data[id][\"Diastolic\"] and training_data[id][\"Systolic\"] and training_data[id][\"Body Mass Index\"]:\n",
    "        training_data[id][\"Diastolic\"] = max(training_data[id][\"Diastolic\"].values())\n",
    "        training_data[id][\"Systolic\"] = max(training_data[id][\"Systolic\"].values())\n",
    "        training_data[id][\"Body Mass Index\"] = max(training_data[id][\"Body Mass Index\"].values())\n",
    "    else:\n",
    "        missing_data.append(id)\n",
    "        \n",
    "\n",
    "for patient in missing_data:\n",
    "    del training_data[patient]"
   ]
  },
  {
   "cell_type": "code",
   "execution_count": null,
   "metadata": {},
   "outputs": [],
   "source": [
    "data = pd.DataFrame.from_dict(training_data, orient=\"index\")"
   ]
  },
  {
   "cell_type": "markdown",
   "metadata": {
    "pycharm": {
     "name": "#%% md\n"
    }
   },
   "source": [
    "### Cleaning dataframe and fixing hospitalization as a label"
   ]
  },
  {
   "cell_type": "code",
   "execution_count": 132,
   "metadata": {
    "pycharm": {
     "is_executing": false
    }
   },
   "outputs": [],
   "source": [
    "data = data.reset_index()\n",
    "bins = [0,3,float(\"inf\")]\n",
    "labels = [0,1]\n",
    "data['Hospitalized'] = pd.cut(data['Hospitalized'], bins=bins, labels=labels, include_lowest=True)\n",
    "id_col = ['index']\n",
    "target_feature = ['Hospitalized']\n",
    "label = data['Hospitalized']\n",
    "dropped_cols = id_col+target_feature+['Age']\n",
    "data = data.drop(dropped_cols, axis=1)"
   ]
  },
  {
   "cell_type": "code",
   "execution_count": 141,
   "metadata": {},
   "outputs": [
    {
     "data": {
      "text/html": [
       "<div>\n",
       "<style scoped>\n",
       "    .dataframe tbody tr th:only-of-type {\n",
       "        vertical-align: middle;\n",
       "    }\n",
       "\n",
       "    .dataframe tbody tr th {\n",
       "        vertical-align: top;\n",
       "    }\n",
       "\n",
       "    .dataframe thead th {\n",
       "        text-align: right;\n",
       "    }\n",
       "</style>\n",
       "<table border=\"1\" class=\"dataframe\">\n",
       "  <thead>\n",
       "    <tr style=\"text-align: right;\">\n",
       "      <th></th>\n",
       "      <th>Age Over 50</th>\n",
       "      <th>Prediabetes</th>\n",
       "      <th>CHF</th>\n",
       "      <th>Body Mass Index</th>\n",
       "      <th>Diastolic</th>\n",
       "      <th>Systolic</th>\n",
       "    </tr>\n",
       "  </thead>\n",
       "  <tbody>\n",
       "    <tr>\n",
       "      <th>0</th>\n",
       "      <td>0</td>\n",
       "      <td>1</td>\n",
       "      <td>0</td>\n",
       "      <td>30.09</td>\n",
       "      <td>84.0</td>\n",
       "      <td>126.0</td>\n",
       "    </tr>\n",
       "    <tr>\n",
       "      <th>1</th>\n",
       "      <td>0</td>\n",
       "      <td>0</td>\n",
       "      <td>0</td>\n",
       "      <td>21.85</td>\n",
       "      <td>90.0</td>\n",
       "      <td>139.0</td>\n",
       "    </tr>\n",
       "    <tr>\n",
       "      <th>2</th>\n",
       "      <td>1</td>\n",
       "      <td>0</td>\n",
       "      <td>0</td>\n",
       "      <td>27.89</td>\n",
       "      <td>86.0</td>\n",
       "      <td>135.0</td>\n",
       "    </tr>\n",
       "    <tr>\n",
       "      <th>3</th>\n",
       "      <td>0</td>\n",
       "      <td>0</td>\n",
       "      <td>0</td>\n",
       "      <td>29.55</td>\n",
       "      <td>88.0</td>\n",
       "      <td>134.0</td>\n",
       "    </tr>\n",
       "    <tr>\n",
       "      <th>4</th>\n",
       "      <td>1</td>\n",
       "      <td>1</td>\n",
       "      <td>0</td>\n",
       "      <td>30.37</td>\n",
       "      <td>83.0</td>\n",
       "      <td>134.0</td>\n",
       "    </tr>\n",
       "    <tr>\n",
       "      <th>...</th>\n",
       "      <td>...</td>\n",
       "      <td>...</td>\n",
       "      <td>...</td>\n",
       "      <td>...</td>\n",
       "      <td>...</td>\n",
       "      <td>...</td>\n",
       "    </tr>\n",
       "    <tr>\n",
       "      <th>1280</th>\n",
       "      <td>0</td>\n",
       "      <td>0</td>\n",
       "      <td>0</td>\n",
       "      <td>21.48</td>\n",
       "      <td>88.0</td>\n",
       "      <td>138.0</td>\n",
       "    </tr>\n",
       "    <tr>\n",
       "      <th>1281</th>\n",
       "      <td>1</td>\n",
       "      <td>1</td>\n",
       "      <td>0</td>\n",
       "      <td>28.12</td>\n",
       "      <td>83.0</td>\n",
       "      <td>133.0</td>\n",
       "    </tr>\n",
       "    <tr>\n",
       "      <th>1282</th>\n",
       "      <td>0</td>\n",
       "      <td>0</td>\n",
       "      <td>0</td>\n",
       "      <td>27.29</td>\n",
       "      <td>82.0</td>\n",
       "      <td>128.0</td>\n",
       "    </tr>\n",
       "    <tr>\n",
       "      <th>1283</th>\n",
       "      <td>0</td>\n",
       "      <td>0</td>\n",
       "      <td>0</td>\n",
       "      <td>26.98</td>\n",
       "      <td>85.0</td>\n",
       "      <td>138.0</td>\n",
       "    </tr>\n",
       "    <tr>\n",
       "      <th>1284</th>\n",
       "      <td>0</td>\n",
       "      <td>1</td>\n",
       "      <td>0</td>\n",
       "      <td>20.37</td>\n",
       "      <td>85.0</td>\n",
       "      <td>131.0</td>\n",
       "    </tr>\n",
       "  </tbody>\n",
       "</table>\n",
       "<p>1285 rows × 6 columns</p>\n",
       "</div>"
      ],
      "text/plain": [
       "      Age Over 50  Prediabetes  CHF  Body Mass Index  Diastolic  Systolic\n",
       "0               0            1    0            30.09       84.0     126.0\n",
       "1               0            0    0            21.85       90.0     139.0\n",
       "2               1            0    0            27.89       86.0     135.0\n",
       "3               0            0    0            29.55       88.0     134.0\n",
       "4               1            1    0            30.37       83.0     134.0\n",
       "...           ...          ...  ...              ...        ...       ...\n",
       "1280            0            0    0            21.48       88.0     138.0\n",
       "1281            1            1    0            28.12       83.0     133.0\n",
       "1282            0            0    0            27.29       82.0     128.0\n",
       "1283            0            0    0            26.98       85.0     138.0\n",
       "1284            0            1    0            20.37       85.0     131.0\n",
       "\n",
       "[1285 rows x 6 columns]"
      ]
     },
     "execution_count": 141,
     "metadata": {},
     "output_type": "execute_result"
    }
   ],
   "source": [
    "data"
   ]
  },
  {
   "cell_type": "markdown",
   "metadata": {
    "pycharm": {
     "name": "#%% md\n"
    }
   },
   "source": [
    "### Splitting Data"
   ]
  },
  {
   "cell_type": "code",
   "execution_count": 134,
   "metadata": {
    "pycharm": {
     "is_executing": false
    }
   },
   "outputs": [],
   "source": [
    "train_data, test_data, train_labels, test_labels = train_test_split(data.values, label.values, test_size = 0.2)"
   ]
  },
  {
   "cell_type": "markdown",
   "metadata": {
    "pycharm": {
     "name": "#%% md\n"
    }
   },
   "source": [
    "### Creating tensors"
   ]
  },
  {
   "cell_type": "code",
   "execution_count": 135,
   "metadata": {
    "pycharm": {
     "is_executing": false
    }
   },
   "outputs": [],
   "source": [
    "temp_tensor = torch.tensor(train_data, dtype=torch.float64)\n",
    "label_tensor = torch.tensor(train_labels, dtype=torch.long)\n",
    "test_tensor = torch.tensor(test_data, dtype=torch.long)\n",
    "test_label_tensor = torch.tensor(test_labels, dtype=torch.long)\n",
    "train_data = [(temp_tensor[i], label_tensor[i]) for i in range(temp_tensor.size()[0])]\n",
    "test_data = [(test_tensor[i], test_label_tensor[i]) for i in range(test_tensor.size()[0])]"
   ]
  },
  {
   "cell_type": "code",
   "execution_count": 136,
   "metadata": {
    "pycharm": {
     "is_executing": false
    }
   },
   "outputs": [],
   "source": [
    "class Brain(nn.Module):\n",
    "    def __init__(self, input_size, hidden1_size, hidden2_size, num_classes):\n",
    "        super(Brain, self).__init__()\n",
    "        self.fc1= nn.Linear(input_size, hidden1_size)\n",
    "        self.ReLU1 = nn.ReLU()\n",
    "        self.fc2 = nn.Linear(hidden1_size, hidden2_size)\n",
    "        self.ReLU2 = nn.ReLU()\n",
    "        self.fc3 = nn.Linear(hidden2_size, num_classes)\n",
    "    \n",
    "    def  forward(self,x):\n",
    "        out = self.fc1(x)\n",
    "        out = self.ReLU1(out)\n",
    "        out = self.fc2(out)\n",
    "        out = self.ReLU2(out)\n",
    "        out = self.fc3(out)\n",
    "        return out"
   ]
  },
  {
   "cell_type": "code",
   "execution_count": 137,
   "metadata": {
    "pycharm": {
     "is_executing": false
    }
   },
   "outputs": [
    {
     "name": "stdout",
     "output_type": "stream",
     "text": [
      "Brain(\n",
      "  (fc1): Linear(in_features=6, out_features=64, bias=True)\n",
      "  (ReLU1): ReLU()\n",
      "  (fc2): Linear(in_features=64, out_features=32, bias=True)\n",
      "  (ReLU2): ReLU()\n",
      "  (fc3): Linear(in_features=32, out_features=2, bias=True)\n",
      ")\n"
     ]
    }
   ],
   "source": [
    "model = Brain(6, 64, 32, 2)\n",
    "model.double()\n",
    "#lr = learning rate \n",
    "optimizer = optim.SGD(model.parameters(), lr = 0.001)\n",
    "num_epochs = 30\n",
    "print(model)"
   ]
  },
  {
   "cell_type": "code",
   "execution_count": 138,
   "metadata": {
    "pycharm": {
     "is_executing": false
    }
   },
   "outputs": [],
   "source": [
    "batch_size = 30\n",
    "train_loader = torch.utils.data.DataLoader(dataset=train_data, batch_size = batch_size, shuffle = True)\n",
    "#test_loader = torch.utils.data.DataLoader(dataset=testData, batch_size = batch_size, shuffle = True)\n",
    "criterion = nn.CrossEntropyLoss()"
   ]
  },
  {
   "cell_type": "code",
   "execution_count": 139,
   "metadata": {
    "pycharm": {
     "is_executing": false
    }
   },
   "outputs": [
    {
     "name": "stdout",
     "output_type": "stream",
     "text": [
      "Training loss:  0.9545280344506949\n",
      "Training loss:  0.7605840163061831\n",
      "Training loss:  0.7453525244462809\n",
      "Training loss:  0.615535261069329\n",
      "Training loss:  0.5725576130843228\n",
      "Training loss:  0.5529453796819779\n",
      "Training loss:  0.5454659220249843\n",
      "Training loss:  0.5498354624972459\n",
      "Training loss:  0.5529750059682874\n",
      "Training loss:  0.5492941404732795\n",
      "Training loss:  0.543670328120895\n",
      "Training loss:  0.5269076057078473\n",
      "Training loss:  0.5276810243133377\n",
      "Training loss:  0.5389015453767195\n",
      "Training loss:  0.5295789631019318\n",
      "Training loss:  0.5235411093880289\n",
      "Training loss:  0.555004279207623\n",
      "Training loss:  0.5440198625248637\n",
      "Training loss:  0.545899467121463\n",
      "Training loss:  0.5393650843931138\n",
      "Training loss:  0.5167458122961649\n",
      "Training loss:  0.5282042719031483\n",
      "Training loss:  0.5230047976361331\n",
      "Training loss:  0.5126988478743267\n",
      "Training loss:  0.5258255568757589\n",
      "Training loss:  0.5107622639238086\n",
      "Training loss:  0.5077496021381283\n",
      "Training loss:  0.5173876817861809\n",
      "Training loss:  0.5168235567956434\n",
      "Training loss:  0.5187557791803227\n"
     ]
    }
   ],
   "source": [
    "for i in range(num_epochs):\n",
    "    cum_loss = 0\n",
    "    for inputs, labels in train_loader:\n",
    "        # print(inputs)\n",
    "        optimizer.zero_grad()\n",
    "       # print(inputs.size())\n",
    "        output = model(inputs)\n",
    "#         output = output.long()\n",
    "      #  print(output)\n",
    "        loss = criterion(output, labels.long())\n",
    "        loss.backward()\n",
    "        optimizer.step()\n",
    "        \n",
    "        cum_loss += loss.item()\n",
    "        \n",
    "    print(\"Training loss: \", cum_loss / len(train_loader))"
   ]
  },
  {
   "cell_type": "code",
   "execution_count": 140,
   "metadata": {
    "pycharm": {
     "is_executing": false
    }
   },
   "outputs": [
    {
     "name": "stdout",
     "output_type": "stream",
     "text": [
      "Accuracy =  0.7859922178988327\n",
      "Correct/Total: 202 / 257\n"
     ]
    }
   ],
   "source": [
    "with torch.no_grad():\n",
    "  numCorrect = 0\n",
    "  numTotal = 0\n",
    "  for item, label in test_data:\n",
    "    item = item.double()\n",
    "    prediction = model(item).max(0)[1].item()\n",
    "    if prediction == label:\n",
    "        numCorrect += 1\n",
    "    numTotal += 1\n",
    "  print(\"Accuracy = \", (numCorrect / numTotal))\n",
    "  print(\"Correct/Total:\", numCorrect, \"/\", numTotal)"
   ]
  },
  {
   "cell_type": "code",
   "execution_count": null,
   "metadata": {},
   "outputs": [],
   "source": []
  }
 ],
 "metadata": {
  "kernelspec": {
   "display_name": "Python 3",
   "language": "python",
   "name": "python3"
  },
  "language_info": {
   "codemirror_mode": {
    "name": "ipython",
    "version": 3
   },
   "file_extension": ".py",
   "mimetype": "text/x-python",
   "name": "python",
   "nbconvert_exporter": "python",
   "pygments_lexer": "ipython3",
   "version": "3.7.5"
  },
  "pycharm": {
   "stem_cell": {
    "cell_type": "raw",
    "source": [],
    "metadata": {
     "collapsed": false
    }
   }
  }
 },
 "nbformat": 4,
 "nbformat_minor": 1
}