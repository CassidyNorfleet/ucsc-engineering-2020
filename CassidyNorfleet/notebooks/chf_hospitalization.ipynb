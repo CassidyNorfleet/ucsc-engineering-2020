{
 "cells": [
  {
   "cell_type": "code",
   "metadata": {
    "collapsed": true,
    "pycharm": {
     "name": "#%%\n",
     "is_executing": false
    }
   },
   "source": [
    "import glob\n",
    "import tarfile, gzip\n",
    "import pandas as pd\n",
    "from collections import Counter\n",
    "from collections import defaultdict\n",
    "from datetime import datetime\n",
    "from dateutil.relativedelta import relativedelta"
   ],
   "execution_count": 1,
   "outputs": []
  },
  {
   "cell_type": "code",
   "execution_count": 2,
   "outputs": [],
   "source": [
    "# Updates a dictionary from a single patient json\n",
    "def dataPipe(training_data, patient):\n",
    "    id = patient['entry'][0]['resource']['id']\n",
    "    # List of dates and codes\n",
    "    patient_data = []\n",
    "    # First discharge and re-hosp date\n",
    "    patient_label = {}\n",
    "    patient_label['chf_first_discharge'] = None\n",
    "    patient_label['chf_rehosp'] = None\n",
    "    \n",
    "    for entry in patient['entry']:\n",
    "        resource_type = entry['resource']['resourceType']\n",
    "        \n",
    "        if resource_type == \"Encounter\":\n",
    "            class_code = entry['resource']['class']['code']\n",
    "            # Get chf hospitalization dates\n",
    "            if class_code == \"IMP\" or class_code == \"EMER\": # hospitalized\n",
    "                try:\n",
    "                    reason_code = entry['resource']['reasonCode'][0]['coding'][0]['code']\n",
    "                except:\n",
    "                    continue\n",
    "                if reason_code == \"88805009\":\n",
    "                    start_date = entry['resource']['period']['start'][0:10]\n",
    "                    end_date = entry['resource']['period']['end'][0:10]\n",
    "                    if patient_label['chf_first_discharge'] is None:\n",
    "                        patient_label['chf_first_discharge'] = end_date\n",
    "                    elif patient_label['chf_rehosp'] is None:\n",
    "                        patient_label['chf_rehosp'] = end_date\n",
    "            # Get codes\n",
    "            start_date = entry['resource']['period']['start'][0:10]\n",
    "            try:\n",
    "                reason_code = entry['resource']['reasonCode'][0]['coding'][0]['code']\n",
    "            except:\n",
    "                reason_code = entry['resource']['type'][0]['coding'][0]['code']\n",
    "            patient_data.append([start_date, reason_code])\n",
    "        \n",
    "        elif resource_type == \"Observation\":\n",
    "            start_date = entry['resource']['effectiveDateTime'][0:10]\n",
    "            reason_code = entry['resource']['code']['coding'][0]['code']\n",
    "            patient_data.append([start_date, reason_code])\n",
    "        \n",
    "        elif resource_type == \"Procedure\":\n",
    "            start_date = entry['resource']['performedPeriod']['start'][0:10]\n",
    "            reason_code = entry['resource']['code']['coding'][0]['code']\n",
    "            patient_data.append([start_date, reason_code])\n",
    "        \n",
    "        elif resource_type == \"Condition\":\n",
    "            start_date = entry['resource']['onsetDateTime'][0:10]\n",
    "            reason_code = entry['resource']['code']['coding'][0]['code']\n",
    "            patient_data.append([start_date, reason_code])\n",
    "        \n",
    "        elif resource_type == \"Immunization\":\n",
    "            start_date = entry['resource']['occurrenceDateTime'][0:10]\n",
    "            reason_code = entry['resource']['vaccineCode']['coding'][0]['code']\n",
    "            patient_data.append([start_date, reason_code])\n",
    "        \n",
    "        elif resource_type == \"MedicationRequest\":\n",
    "            start_date = entry['resource']['authoredOn'][0:10]\n",
    "            reason_code = entry['resource']['medicationCodeableConcept']['coding'][0]['code']\n",
    "            patient_data.append([start_date, reason_code])\n",
    "    \n",
    "    \n",
    "    # patient_data and patient_label are added to training_data\n",
    "    training_data[id] = {}\n",
    "    training_data[id].update(patient_label)\n",
    "    training_data[id]['codes'] = []\n",
    "    training_data[id]['codes'].append(patient_data)"
   ],
   "metadata": {
    "collapsed": false,
    "pycharm": {
     "name": "#%%\n",
     "is_executing": false
    }
   }
  },
  {
   "cell_type": "code",
   "source": [
    "# Constructs then returns training_data\n",
    "def getPatientData(tfile):\n",
    "    training_data = {}\n",
    "    n=0\n",
    "    for member in tfile:\n",
    "        #Skip directory labeled at the top\n",
    "        if(n==0):\n",
    "            n = 1\n",
    "            continue\n",
    "            \n",
    "        # Extract and decompress json\n",
    "        f = tfile.extractfile(member)\n",
    "        content=f.read()\n",
    "        expanded = gzip.decompress(content)\n",
    "        # Updates data_dict from patient json\n",
    "        dataPipe(training_data, pd.read_json(expanded))\n",
    "        # Empties list to save on RAM\n",
    "        tfile.members = []\n",
    "        \n",
    "        if n == 1:\n",
    "            #display(training_data)\n",
    "            print(1)\n",
    "        elif n == 100:\n",
    "            #display(training_data)\n",
    "            print(100)\n",
    "        elif n == 1000:\n",
    "            #display(training_data)\n",
    "            print(1000)\n",
    "            break\n",
    "        elif n == 10000:\n",
    "            #display(training_data)\n",
    "            print(10000)\n",
    "        elif n == 100000:\n",
    "            #display(training_data)\n",
    "            print(100000)\n",
    "        n+=1\n",
    "    \n",
    "    return training_data"
   ],
   "metadata": {
    "collapsed": false,
    "pycharm": {
     "name": "#%%\n",
     "is_executing": false
    }
   },
   "execution_count": 3,
   "outputs": []
  },
  {
   "cell_type": "code",
   "source": [
    "# Converts a DataFrame of codes into monthly buckets\n",
    "def frameToBuckets(df_codes, training_data):\n",
    "    frames = []\n",
    "    for index, row in df_codes.iterrows():\n",
    "        buckets = []\n",
    "        id = row['id']\n",
    "        \n",
    "        # Get range of re-hospitalization date (or most current date) and prior 2 years\n",
    "        try:\n",
    "            end_range = datetime.strptime(training_data[id]['chf_rehosp'], '%Y-%m-%d').date()\n",
    "        except:\n",
    "            end_range = datetime.strptime(row['codes'][0][-1][0], '%Y-%m-%d').date()\n",
    "        # start_range = end_range.replace(year=end_range.year - 2)\n",
    "        start_range = end_range - relativedelta(years=2)\n",
    "        # print(start_range, end_range)\n",
    "        \n",
    "        \n",
    "        # Set DataFrame to range\n",
    "        df = pd.DataFrame(row['codes'][0]).rename(columns={0:'date', 1:'codes'})\n",
    "        df['date'] = pd.to_datetime(df['date'])\n",
    "        df = df[df['date'].between(start_range, end_range)]\n",
    "        df = df.set_index('date')\n",
    "        \n",
    "        # Group codes by month\n",
    "        df = df.groupby(pd.Grouper(freq='M'))\n",
    "        df = df.aggregate(lambda x: tuple(x))\n",
    "\n",
    "        # Reverse DataFrame and drop dates so the index represents each month\n",
    "        df = df.iloc[::-1].reset_index()\n",
    "\n",
    "        # Each month's codes gets added to buckets\n",
    "        for codes in df['codes']:\n",
    "            code_dict = {}\n",
    "            for code in codes:\n",
    "                code_dict[code] = 1.0\n",
    "            buckets.append(code_dict)\n",
    "\n",
    "        # Create patient_frame\n",
    "        patient_frame = pd.DataFrame.from_dict(buckets).fillna(0).sort_index(ascending=False, axis=1)\n",
    "        if training_data[id]['chf_first_discharge'] is not None:\n",
    "            patient_frame['chf_rehosp'] = 1.0\n",
    "        else:\n",
    "            patient_frame['chf_rehosp'] = 0\n",
    "\n",
    "        frames.append(patient_frame)\n",
    "        \n",
    "    return frames"
   ],
   "metadata": {
    "collapsed": false,
    "pycharm": {
     "name": "#%%\n",
     "is_executing": false
    }
   },
   "execution_count": 4,
   "outputs": []
  },
  {
   "cell_type": "code",
   "source": [
    "# Constructs and returns training_data\n",
    "def getPatientDataTemp():\n",
    "    training_data = {}\n",
    "    for file in glob.glob('../data/fhir/*'):\n",
    "        dataPipe(training_data, pd.read_json(file))\n",
    "    return training_data"
   ],
   "metadata": {
    "collapsed": false,
    "pycharm": {
     "name": "#%%\n",
     "is_executing": false
    }
   },
   "execution_count": 5,
   "outputs": []
  },
  {
   "cell_type": "code",
   "execution_count": 6,
   "outputs": [],
   "source": [
    "# Open Files\n",
    "fileName = \"synthea-100k-MA-json-gz.tar\"\n",
    "tfile = tarfile.open(fileName)"
   ],
   "metadata": {
    "collapsed": false,
    "pycharm": {
     "name": "#%%\n",
     "is_executing": false
    }
   }
  },
  {
   "cell_type": "code",
   "execution_count": 7,
   "outputs": [],
   "source": [
    "# training_data = getPatientData(tfile)\n",
    "training_data = getPatientDataTemp()"
   ],
   "metadata": {
    "collapsed": false,
    "pycharm": {
     "name": "#%%\n",
     "is_executing": false
    }
   }
  },
  {
   "cell_type": "code",
   "execution_count": 8,
   "outputs": [
    {
     "data": {
      "text/plain": "                                     id chf_first_discharge  chf_rehosp  \\\n0  ec3c191c-81f3-4d2f-ac27-52125c0fb43d          2013-01-24  2013-01-25   \n2  c3ac4f32-9d24-4b40-9362-6f79645c3ff7          2010-12-31  2011-01-01   \n3  bfdc96ef-c8f0-424b-9a2d-367ebd9478bd          1964-03-15  1964-03-16   \n4  ab714f8c-4f3c-4fe4-988d-ec3e67f2ed5f          2019-07-16  2019-07-17   \n\n                                               codes  \n0  [[[1959-08-30, 162673000], [1959-08-30, 596210...  \n2  [[[1949-01-17, 75498004], [1949-01-17, 4005500...  \n3  [[[1929-10-14, 162673000], [1929-10-14, 596210...  \n4  [[[1959-09-22, 162673000], [1959-09-22, 157770...  ",
      "text/html": "<div>\n<style scoped>\n    .dataframe tbody tr th:only-of-type {\n        vertical-align: middle;\n    }\n\n    .dataframe tbody tr th {\n        vertical-align: top;\n    }\n\n    .dataframe thead th {\n        text-align: right;\n    }\n</style>\n<table border=\"1\" class=\"dataframe\">\n  <thead>\n    <tr style=\"text-align: right;\">\n      <th></th>\n      <th>id</th>\n      <th>chf_first_discharge</th>\n      <th>chf_rehosp</th>\n      <th>codes</th>\n    </tr>\n  </thead>\n  <tbody>\n    <tr>\n      <th>0</th>\n      <td>ec3c191c-81f3-4d2f-ac27-52125c0fb43d</td>\n      <td>2013-01-24</td>\n      <td>2013-01-25</td>\n      <td>[[[1959-08-30, 162673000], [1959-08-30, 596210...</td>\n    </tr>\n    <tr>\n      <th>2</th>\n      <td>c3ac4f32-9d24-4b40-9362-6f79645c3ff7</td>\n      <td>2010-12-31</td>\n      <td>2011-01-01</td>\n      <td>[[[1949-01-17, 75498004], [1949-01-17, 4005500...</td>\n    </tr>\n    <tr>\n      <th>3</th>\n      <td>bfdc96ef-c8f0-424b-9a2d-367ebd9478bd</td>\n      <td>1964-03-15</td>\n      <td>1964-03-16</td>\n      <td>[[[1929-10-14, 162673000], [1929-10-14, 596210...</td>\n    </tr>\n    <tr>\n      <th>4</th>\n      <td>ab714f8c-4f3c-4fe4-988d-ec3e67f2ed5f</td>\n      <td>2019-07-16</td>\n      <td>2019-07-17</td>\n      <td>[[[1959-09-22, 162673000], [1959-09-22, 157770...</td>\n    </tr>\n  </tbody>\n</table>\n</div>"
     },
     "metadata": {},
     "output_type": "display_data"
    }
   ],
   "source": [
    "# Construct DataFrames from training_data\n",
    "df_all = pd.DataFrame.from_dict(training_data)\n",
    "df_all = df_all.T.reset_index().rename(columns={'index':'id'})\n",
    "\n",
    "# Separate hospitalization label from codes\n",
    "df_all_hosp = df_all.iloc[:, [0,1,2]]\n",
    "df_all_codes = df_all.iloc[:, [0,3]]\n",
    " \n",
    "# Separate chf from general populace\n",
    "df_chf = df_all[df_all.chf_first_discharge.notnull()]\n",
    "df_chf_hosp = df_chf.iloc[:, [0,1,2]]\n",
    "df_chf_codes = df_chf.iloc[:, [0,3]]\n",
    "\n",
    "# display(df_chf_codes)\n",
    "display(df_chf)\n"
   ],
   "metadata": {
    "collapsed": false,
    "pycharm": {
     "name": "#%%\n",
     "is_executing": false
    }
   }
  },
  {
   "cell_type": "code",
   "execution_count": 12,
   "outputs": [],
   "source": [
    "# Convert DataFrame codes to monthly bucket\n",
    "bucket_frame = frameToBuckets(df_chf_codes, training_data)"
   ],
   "metadata": {
    "collapsed": false,
    "pycharm": {
     "name": "#%%\n",
     "is_executing": false
    }
   }
  },
  {
   "cell_type": "code",
   "execution_count": 10,
   "outputs": [
    {
     "data": {
      "text/plain": "    88805009  866414  85354-9  8302-2  746030  72514-3  72166-2  6768-6  \\\n0        1.0     0.0      0.0     0.0     0.0      0.0      0.0     1.0   \n1        0.0     0.0      0.0     0.0     0.0      0.0      0.0     0.0   \n2        0.0     0.0      0.0     0.0     0.0      0.0      0.0     0.0   \n3        0.0     0.0      0.0     0.0     0.0      0.0      0.0     0.0   \n4        0.0     0.0      0.0     0.0     0.0      0.0      0.0     0.0   \n5        0.0     0.0      0.0     0.0     0.0      0.0      0.0     0.0   \n6        1.0     1.0      0.0     0.0     0.0      0.0      0.0     0.0   \n7        0.0     0.0      1.0     1.0     1.0      1.0      1.0     0.0   \n8        0.0     0.0      0.0     0.0     0.0      0.0      0.0     0.0   \n9        0.0     0.0      0.0     0.0     0.0      0.0      0.0     0.0   \n10       0.0     0.0      0.0     0.0     0.0      0.0      0.0     0.0   \n11       0.0     0.0      0.0     0.0     0.0      0.0      0.0     0.0   \n12       0.0     0.0      0.0     0.0     0.0      0.0      0.0     0.0   \n13       0.0     0.0      0.0     0.0     0.0      0.0      0.0     0.0   \n14       0.0     0.0      0.0     0.0     0.0      0.0      0.0     0.0   \n15       0.0     0.0      0.0     0.0     0.0      0.0      0.0     0.0   \n16       0.0     0.0      0.0     0.0     0.0      0.0      0.0     0.0   \n17       0.0     0.0      0.0     0.0     0.0      0.0      0.0     0.0   \n18       0.0     0.0      0.0     0.0     0.0      0.0      0.0     0.0   \n19       0.0     0.0      1.0     1.0     1.0      1.0      1.0     0.0   \n20       0.0     0.0      0.0     0.0     0.0      0.0      0.0     0.0   \n\n    6299-2  6298-4  ...  18262-6  1751-7  1742-6  1719286  162673000  140  \\\n0      1.0     1.0  ...      0.0     1.0     1.0      1.0        0.0  0.0   \n1      0.0     0.0  ...      0.0     0.0     0.0      0.0        0.0  0.0   \n2      0.0     0.0  ...      0.0     0.0     0.0      0.0        0.0  0.0   \n3      0.0     0.0  ...      0.0     0.0     0.0      0.0        0.0  0.0   \n4      0.0     0.0  ...      0.0     0.0     0.0      0.0        0.0  0.0   \n5      0.0     0.0  ...      0.0     0.0     0.0      0.0        0.0  0.0   \n6      1.0     1.0  ...      0.0     0.0     0.0      0.0        0.0  0.0   \n7      1.0     1.0  ...      0.0     0.0     0.0      0.0        1.0  1.0   \n8      0.0     0.0  ...      0.0     0.0     0.0      0.0        0.0  0.0   \n9      0.0     0.0  ...      0.0     0.0     0.0      0.0        0.0  0.0   \n10     0.0     0.0  ...      0.0     0.0     0.0      0.0        0.0  0.0   \n11     0.0     0.0  ...      0.0     0.0     0.0      0.0        0.0  0.0   \n12     0.0     0.0  ...      0.0     0.0     0.0      0.0        0.0  0.0   \n13     0.0     0.0  ...      0.0     0.0     0.0      0.0        0.0  0.0   \n14     0.0     0.0  ...      0.0     0.0     0.0      0.0        0.0  0.0   \n15     0.0     0.0  ...      0.0     0.0     0.0      0.0        0.0  0.0   \n16     0.0     0.0  ...      0.0     0.0     0.0      0.0        0.0  0.0   \n17     0.0     0.0  ...      0.0     0.0     0.0      0.0        0.0  0.0   \n18     0.0     0.0  ...      0.0     0.0     0.0      0.0        0.0  0.0   \n19     1.0     1.0  ...      1.0     0.0     0.0      0.0        1.0  1.0   \n20     0.0     0.0  ...      0.0     0.0     0.0      0.0        0.0  0.0   \n\n    10834-0  10509002  10230-1  chf_rehosp  \n0       1.0       0.0      0.0         1.0  \n1       0.0       0.0      0.0         1.0  \n2       0.0       0.0      0.0         1.0  \n3       0.0       0.0      0.0         1.0  \n4       0.0       0.0      0.0         1.0  \n5       0.0       0.0      0.0         1.0  \n6       0.0       0.0      1.0         1.0  \n7       0.0       0.0      0.0         1.0  \n8       0.0       0.0      0.0         1.0  \n9       0.0       0.0      0.0         1.0  \n10      0.0       0.0      0.0         1.0  \n11      0.0       0.0      0.0         1.0  \n12      0.0       0.0      0.0         1.0  \n13      0.0       0.0      0.0         1.0  \n14      0.0       0.0      0.0         1.0  \n15      0.0       0.0      0.0         1.0  \n16      0.0       0.0      0.0         1.0  \n17      0.0       0.0      0.0         1.0  \n18      0.0       0.0      0.0         1.0  \n19      0.0       1.0      0.0         1.0  \n20      0.0       0.0      0.0         1.0  \n\n[21 rows x 45 columns]",
      "text/html": "<div>\n<style scoped>\n    .dataframe tbody tr th:only-of-type {\n        vertical-align: middle;\n    }\n\n    .dataframe tbody tr th {\n        vertical-align: top;\n    }\n\n    .dataframe thead th {\n        text-align: right;\n    }\n</style>\n<table border=\"1\" class=\"dataframe\">\n  <thead>\n    <tr style=\"text-align: right;\">\n      <th></th>\n      <th>88805009</th>\n      <th>866414</th>\n      <th>85354-9</th>\n      <th>8302-2</th>\n      <th>746030</th>\n      <th>72514-3</th>\n      <th>72166-2</th>\n      <th>6768-6</th>\n      <th>6299-2</th>\n      <th>6298-4</th>\n      <th>...</th>\n      <th>18262-6</th>\n      <th>1751-7</th>\n      <th>1742-6</th>\n      <th>1719286</th>\n      <th>162673000</th>\n      <th>140</th>\n      <th>10834-0</th>\n      <th>10509002</th>\n      <th>10230-1</th>\n      <th>chf_rehosp</th>\n    </tr>\n  </thead>\n  <tbody>\n    <tr>\n      <th>0</th>\n      <td>1.0</td>\n      <td>0.0</td>\n      <td>0.0</td>\n      <td>0.0</td>\n      <td>0.0</td>\n      <td>0.0</td>\n      <td>0.0</td>\n      <td>1.0</td>\n      <td>1.0</td>\n      <td>1.0</td>\n      <td>...</td>\n      <td>0.0</td>\n      <td>1.0</td>\n      <td>1.0</td>\n      <td>1.0</td>\n      <td>0.0</td>\n      <td>0.0</td>\n      <td>1.0</td>\n      <td>0.0</td>\n      <td>0.0</td>\n      <td>1.0</td>\n    </tr>\n    <tr>\n      <th>1</th>\n      <td>0.0</td>\n      <td>0.0</td>\n      <td>0.0</td>\n      <td>0.0</td>\n      <td>0.0</td>\n      <td>0.0</td>\n      <td>0.0</td>\n      <td>0.0</td>\n      <td>0.0</td>\n      <td>0.0</td>\n      <td>...</td>\n      <td>0.0</td>\n      <td>0.0</td>\n      <td>0.0</td>\n      <td>0.0</td>\n      <td>0.0</td>\n      <td>0.0</td>\n      <td>0.0</td>\n      <td>0.0</td>\n      <td>0.0</td>\n      <td>1.0</td>\n    </tr>\n    <tr>\n      <th>2</th>\n      <td>0.0</td>\n      <td>0.0</td>\n      <td>0.0</td>\n      <td>0.0</td>\n      <td>0.0</td>\n      <td>0.0</td>\n      <td>0.0</td>\n      <td>0.0</td>\n      <td>0.0</td>\n      <td>0.0</td>\n      <td>...</td>\n      <td>0.0</td>\n      <td>0.0</td>\n      <td>0.0</td>\n      <td>0.0</td>\n      <td>0.0</td>\n      <td>0.0</td>\n      <td>0.0</td>\n      <td>0.0</td>\n      <td>0.0</td>\n      <td>1.0</td>\n    </tr>\n    <tr>\n      <th>3</th>\n      <td>0.0</td>\n      <td>0.0</td>\n      <td>0.0</td>\n      <td>0.0</td>\n      <td>0.0</td>\n      <td>0.0</td>\n      <td>0.0</td>\n      <td>0.0</td>\n      <td>0.0</td>\n      <td>0.0</td>\n      <td>...</td>\n      <td>0.0</td>\n      <td>0.0</td>\n      <td>0.0</td>\n      <td>0.0</td>\n      <td>0.0</td>\n      <td>0.0</td>\n      <td>0.0</td>\n      <td>0.0</td>\n      <td>0.0</td>\n      <td>1.0</td>\n    </tr>\n    <tr>\n      <th>4</th>\n      <td>0.0</td>\n      <td>0.0</td>\n      <td>0.0</td>\n      <td>0.0</td>\n      <td>0.0</td>\n      <td>0.0</td>\n      <td>0.0</td>\n      <td>0.0</td>\n      <td>0.0</td>\n      <td>0.0</td>\n      <td>...</td>\n      <td>0.0</td>\n      <td>0.0</td>\n      <td>0.0</td>\n      <td>0.0</td>\n      <td>0.0</td>\n      <td>0.0</td>\n      <td>0.0</td>\n      <td>0.0</td>\n      <td>0.0</td>\n      <td>1.0</td>\n    </tr>\n    <tr>\n      <th>5</th>\n      <td>0.0</td>\n      <td>0.0</td>\n      <td>0.0</td>\n      <td>0.0</td>\n      <td>0.0</td>\n      <td>0.0</td>\n      <td>0.0</td>\n      <td>0.0</td>\n      <td>0.0</td>\n      <td>0.0</td>\n      <td>...</td>\n      <td>0.0</td>\n      <td>0.0</td>\n      <td>0.0</td>\n      <td>0.0</td>\n      <td>0.0</td>\n      <td>0.0</td>\n      <td>0.0</td>\n      <td>0.0</td>\n      <td>0.0</td>\n      <td>1.0</td>\n    </tr>\n    <tr>\n      <th>6</th>\n      <td>1.0</td>\n      <td>1.0</td>\n      <td>0.0</td>\n      <td>0.0</td>\n      <td>0.0</td>\n      <td>0.0</td>\n      <td>0.0</td>\n      <td>0.0</td>\n      <td>1.0</td>\n      <td>1.0</td>\n      <td>...</td>\n      <td>0.0</td>\n      <td>0.0</td>\n      <td>0.0</td>\n      <td>0.0</td>\n      <td>0.0</td>\n      <td>0.0</td>\n      <td>0.0</td>\n      <td>0.0</td>\n      <td>1.0</td>\n      <td>1.0</td>\n    </tr>\n    <tr>\n      <th>7</th>\n      <td>0.0</td>\n      <td>0.0</td>\n      <td>1.0</td>\n      <td>1.0</td>\n      <td>1.0</td>\n      <td>1.0</td>\n      <td>1.0</td>\n      <td>0.0</td>\n      <td>1.0</td>\n      <td>1.0</td>\n      <td>...</td>\n      <td>0.0</td>\n      <td>0.0</td>\n      <td>0.0</td>\n      <td>0.0</td>\n      <td>1.0</td>\n      <td>1.0</td>\n      <td>0.0</td>\n      <td>0.0</td>\n      <td>0.0</td>\n      <td>1.0</td>\n    </tr>\n    <tr>\n      <th>8</th>\n      <td>0.0</td>\n      <td>0.0</td>\n      <td>0.0</td>\n      <td>0.0</td>\n      <td>0.0</td>\n      <td>0.0</td>\n      <td>0.0</td>\n      <td>0.0</td>\n      <td>0.0</td>\n      <td>0.0</td>\n      <td>...</td>\n      <td>0.0</td>\n      <td>0.0</td>\n      <td>0.0</td>\n      <td>0.0</td>\n      <td>0.0</td>\n      <td>0.0</td>\n      <td>0.0</td>\n      <td>0.0</td>\n      <td>0.0</td>\n      <td>1.0</td>\n    </tr>\n    <tr>\n      <th>9</th>\n      <td>0.0</td>\n      <td>0.0</td>\n      <td>0.0</td>\n      <td>0.0</td>\n      <td>0.0</td>\n      <td>0.0</td>\n      <td>0.0</td>\n      <td>0.0</td>\n      <td>0.0</td>\n      <td>0.0</td>\n      <td>...</td>\n      <td>0.0</td>\n      <td>0.0</td>\n      <td>0.0</td>\n      <td>0.0</td>\n      <td>0.0</td>\n      <td>0.0</td>\n      <td>0.0</td>\n      <td>0.0</td>\n      <td>0.0</td>\n      <td>1.0</td>\n    </tr>\n    <tr>\n      <th>10</th>\n      <td>0.0</td>\n      <td>0.0</td>\n      <td>0.0</td>\n      <td>0.0</td>\n      <td>0.0</td>\n      <td>0.0</td>\n      <td>0.0</td>\n      <td>0.0</td>\n      <td>0.0</td>\n      <td>0.0</td>\n      <td>...</td>\n      <td>0.0</td>\n      <td>0.0</td>\n      <td>0.0</td>\n      <td>0.0</td>\n      <td>0.0</td>\n      <td>0.0</td>\n      <td>0.0</td>\n      <td>0.0</td>\n      <td>0.0</td>\n      <td>1.0</td>\n    </tr>\n    <tr>\n      <th>11</th>\n      <td>0.0</td>\n      <td>0.0</td>\n      <td>0.0</td>\n      <td>0.0</td>\n      <td>0.0</td>\n      <td>0.0</td>\n      <td>0.0</td>\n      <td>0.0</td>\n      <td>0.0</td>\n      <td>0.0</td>\n      <td>...</td>\n      <td>0.0</td>\n      <td>0.0</td>\n      <td>0.0</td>\n      <td>0.0</td>\n      <td>0.0</td>\n      <td>0.0</td>\n      <td>0.0</td>\n      <td>0.0</td>\n      <td>0.0</td>\n      <td>1.0</td>\n    </tr>\n    <tr>\n      <th>12</th>\n      <td>0.0</td>\n      <td>0.0</td>\n      <td>0.0</td>\n      <td>0.0</td>\n      <td>0.0</td>\n      <td>0.0</td>\n      <td>0.0</td>\n      <td>0.0</td>\n      <td>0.0</td>\n      <td>0.0</td>\n      <td>...</td>\n      <td>0.0</td>\n      <td>0.0</td>\n      <td>0.0</td>\n      <td>0.0</td>\n      <td>0.0</td>\n      <td>0.0</td>\n      <td>0.0</td>\n      <td>0.0</td>\n      <td>0.0</td>\n      <td>1.0</td>\n    </tr>\n    <tr>\n      <th>13</th>\n      <td>0.0</td>\n      <td>0.0</td>\n      <td>0.0</td>\n      <td>0.0</td>\n      <td>0.0</td>\n      <td>0.0</td>\n      <td>0.0</td>\n      <td>0.0</td>\n      <td>0.0</td>\n      <td>0.0</td>\n      <td>...</td>\n      <td>0.0</td>\n      <td>0.0</td>\n      <td>0.0</td>\n      <td>0.0</td>\n      <td>0.0</td>\n      <td>0.0</td>\n      <td>0.0</td>\n      <td>0.0</td>\n      <td>0.0</td>\n      <td>1.0</td>\n    </tr>\n    <tr>\n      <th>14</th>\n      <td>0.0</td>\n      <td>0.0</td>\n      <td>0.0</td>\n      <td>0.0</td>\n      <td>0.0</td>\n      <td>0.0</td>\n      <td>0.0</td>\n      <td>0.0</td>\n      <td>0.0</td>\n      <td>0.0</td>\n      <td>...</td>\n      <td>0.0</td>\n      <td>0.0</td>\n      <td>0.0</td>\n      <td>0.0</td>\n      <td>0.0</td>\n      <td>0.0</td>\n      <td>0.0</td>\n      <td>0.0</td>\n      <td>0.0</td>\n      <td>1.0</td>\n    </tr>\n    <tr>\n      <th>15</th>\n      <td>0.0</td>\n      <td>0.0</td>\n      <td>0.0</td>\n      <td>0.0</td>\n      <td>0.0</td>\n      <td>0.0</td>\n      <td>0.0</td>\n      <td>0.0</td>\n      <td>0.0</td>\n      <td>0.0</td>\n      <td>...</td>\n      <td>0.0</td>\n      <td>0.0</td>\n      <td>0.0</td>\n      <td>0.0</td>\n      <td>0.0</td>\n      <td>0.0</td>\n      <td>0.0</td>\n      <td>0.0</td>\n      <td>0.0</td>\n      <td>1.0</td>\n    </tr>\n    <tr>\n      <th>16</th>\n      <td>0.0</td>\n      <td>0.0</td>\n      <td>0.0</td>\n      <td>0.0</td>\n      <td>0.0</td>\n      <td>0.0</td>\n      <td>0.0</td>\n      <td>0.0</td>\n      <td>0.0</td>\n      <td>0.0</td>\n      <td>...</td>\n      <td>0.0</td>\n      <td>0.0</td>\n      <td>0.0</td>\n      <td>0.0</td>\n      <td>0.0</td>\n      <td>0.0</td>\n      <td>0.0</td>\n      <td>0.0</td>\n      <td>0.0</td>\n      <td>1.0</td>\n    </tr>\n    <tr>\n      <th>17</th>\n      <td>0.0</td>\n      <td>0.0</td>\n      <td>0.0</td>\n      <td>0.0</td>\n      <td>0.0</td>\n      <td>0.0</td>\n      <td>0.0</td>\n      <td>0.0</td>\n      <td>0.0</td>\n      <td>0.0</td>\n      <td>...</td>\n      <td>0.0</td>\n      <td>0.0</td>\n      <td>0.0</td>\n      <td>0.0</td>\n      <td>0.0</td>\n      <td>0.0</td>\n      <td>0.0</td>\n      <td>0.0</td>\n      <td>0.0</td>\n      <td>1.0</td>\n    </tr>\n    <tr>\n      <th>18</th>\n      <td>0.0</td>\n      <td>0.0</td>\n      <td>0.0</td>\n      <td>0.0</td>\n      <td>0.0</td>\n      <td>0.0</td>\n      <td>0.0</td>\n      <td>0.0</td>\n      <td>0.0</td>\n      <td>0.0</td>\n      <td>...</td>\n      <td>0.0</td>\n      <td>0.0</td>\n      <td>0.0</td>\n      <td>0.0</td>\n      <td>0.0</td>\n      <td>0.0</td>\n      <td>0.0</td>\n      <td>0.0</td>\n      <td>0.0</td>\n      <td>1.0</td>\n    </tr>\n    <tr>\n      <th>19</th>\n      <td>0.0</td>\n      <td>0.0</td>\n      <td>1.0</td>\n      <td>1.0</td>\n      <td>1.0</td>\n      <td>1.0</td>\n      <td>1.0</td>\n      <td>0.0</td>\n      <td>1.0</td>\n      <td>1.0</td>\n      <td>...</td>\n      <td>1.0</td>\n      <td>0.0</td>\n      <td>0.0</td>\n      <td>0.0</td>\n      <td>1.0</td>\n      <td>1.0</td>\n      <td>0.0</td>\n      <td>1.0</td>\n      <td>0.0</td>\n      <td>1.0</td>\n    </tr>\n    <tr>\n      <th>20</th>\n      <td>0.0</td>\n      <td>0.0</td>\n      <td>0.0</td>\n      <td>0.0</td>\n      <td>0.0</td>\n      <td>0.0</td>\n      <td>0.0</td>\n      <td>0.0</td>\n      <td>0.0</td>\n      <td>0.0</td>\n      <td>...</td>\n      <td>0.0</td>\n      <td>0.0</td>\n      <td>0.0</td>\n      <td>0.0</td>\n      <td>0.0</td>\n      <td>0.0</td>\n      <td>0.0</td>\n      <td>0.0</td>\n      <td>0.0</td>\n      <td>1.0</td>\n    </tr>\n  </tbody>\n</table>\n<p>21 rows × 45 columns</p>\n</div>"
     },
     "metadata": {},
     "output_type": "display_data"
    }
   ],
   "source": [
    "display(bucket_frame[0])\n"
   ],
   "metadata": {
    "collapsed": false,
    "pycharm": {
     "name": "#%%\n",
     "is_executing": false
    }
   }
  }
 ],
 "metadata": {
  "kernelspec": {
   "display_name": "Python 3",
   "language": "python",
   "name": "python3"
  },
  "language_info": {
   "codemirror_mode": {
    "name": "ipython",
    "version": 2
   },
   "file_extension": ".py",
   "mimetype": "text/x-python",
   "name": "python",
   "nbconvert_exporter": "python",
   "pygments_lexer": "ipython2",
   "version": "2.7.6"
  },
  "pycharm": {
   "stem_cell": {
    "cell_type": "raw",
    "source": [],
    "metadata": {
     "collapsed": false
    }
   }
  }
 },
 "nbformat": 4,
 "nbformat_minor": 0
}