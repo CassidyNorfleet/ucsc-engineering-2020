{
 "cells": [
  {
   "cell_type": "code",
   "execution_count": 82,
   "metadata": {},
   "outputs": [],
   "source": [
    "import pandas as pd\n",
    "import matplotlib.pyplot as plt\n",
    "import glob\n",
    "from collections import Counter\n",
    "import pprint"
   ]
  },
  {
   "cell_type": "code",
   "execution_count": 83,
   "metadata": {},
   "outputs": [],
   "source": [
    "# generate hemoglobin data for patients\n",
    "hemo_list = dict()\n",
    "\n",
    "# generate chf patients' ids\n",
    "chf_patients = list()\n",
    "\n",
    "# generate all patients' ids\n",
    "name_list = list()\n",
    "\n",
    "# gemerate encounters of congestive heart failure\n",
    "chf_list = dict()\n",
    "\n",
    "for file in glob.glob('./data/*'):\n",
    "    hemo_data = dict()\n",
    "    chf_data = list()\n",
    "    data = pd.read_json(file)\n",
    "    count = data['entry'].count()\n",
    "    name = data['entry'][0]['resource']['id']\n",
    "    name_list.append(name)\n",
    "    for i in range(count):\n",
    "        if data['entry'][i]['resource']['resourceType'] == 'Observation':\n",
    "            resource = data['entry'][i]['resource']\n",
    "            if resource['code']['coding'][0]['code'] == '718-7':\n",
    "                time = resource['effectiveDateTime'][0:10]\n",
    "                value = resource['valueQuantity']['value']\n",
    "                hemo_data[time] = value\n",
    "        if data['entry'][i]['resource']['resourceType'] == 'Encounter':\n",
    "            resource = data['entry'][i]['resource']\n",
    "            if 'reasonCode' in resource:\n",
    "                if resource['reasonCode'][0]['coding'][0]['code'] == '88805009':\n",
    "                    time = resource['period']['start'][0:10]\n",
    "                    chf_data.append(time)\n",
    "                    if name not in chf_patients:\n",
    "                        chf_patients.append(name)\n",
    "                \n",
    "    hemo_list[name] = hemo_data\n",
    "    chf_list[name] = chf_data"
   ]
  },
  {
   "cell_type": "code",
   "execution_count": 84,
   "metadata": {
    "scrolled": true
   },
   "outputs": [],
   "source": [
    "# pprint.pprint(hemo_list)\n",
    "# pprint.pprint('----------------------------------------')\n",
    "# pprint.pprint(chf_list)"
   ]
  },
  {
   "cell_type": "markdown",
   "metadata": {},
   "source": [
    "#### Distribution of average hemoglobin value of CHF patients:"
   ]
  },
  {
   "cell_type": "code",
   "execution_count": 95,
   "metadata": {},
   "outputs": [
    {
     "data": {
      "image/png": "[encoded data removed]",
      "text/plain": [
       "<Figure size 432x288 with 1 Axes>"
      ]
     },
     "metadata": {
      "needs_background": "light"
     },
     "output_type": "display_data"
    }
   ],
   "source": [
    "# avg value of people with chf\n",
    "mean_list_chf = []\n",
    "for person in chf_patients:\n",
    "    values = hemo_list[person]\n",
    "    list_chf = list(hemo_list[person].values())\n",
    "    if len(list_chf) != 0:\n",
    "        mean = sum(list_chf)/len(list_chf)\n",
    "        mean_list_chf.append(mean)\n",
    "df_chf = pd.DataFrame(mean_list_chf, columns=['Mean'])\n",
    "\n",
    "plt.hist(mean_list_chf)\n",
    "plt.xlabel('Hemoglobin values in blood')\n",
    "plt.ylabel('Number of CHF patients')\n",
    "plt.show()"
   ]
  },
  {
   "cell_type": "markdown",
   "metadata": {},
   "source": [
    "#### Distribution of average hemoglobin value of non CHF patients:"
   ]
  },
  {
   "cell_type": "code",
   "execution_count": 96,
   "metadata": {},
   "outputs": [
    {
     "data": {
      "image/png": "[encoded data removed]",
      "text/plain": [
       "<Figure size 432x288 with 1 Axes>"
      ]
     },
     "metadata": {
      "needs_background": "light"
     },
     "output_type": "display_data"
    }
   ],
   "source": [
    "# avg value of people w/o chf\n",
    "mean_list_nonchf = []\n",
    "for person in name_list:\n",
    "    if person not in chf_patients:\n",
    "        values = hemo_list[person]\n",
    "        list_nonchf = list(hemo_list[person].values())\n",
    "        if len(list_nonchf) != 0:\n",
    "            mean = sum(list_nonchf)/len(list_nonchf)\n",
    "            mean_list_nonchf.append(mean)\n",
    "df_nonchf = pd.DataFrame(mean_list_nonchf, columns=['Mean'])\n",
    "\n",
    "plt.hist(mean_list_nonchf)\n",
    "plt.xlabel('Hemoglobin values in blood')\n",
    "plt.ylabel('Number of non CHF patients')\n",
    "plt.show()"
   ]
  },
  {
   "cell_type": "code",
   "execution_count": null,
   "metadata": {},
   "outputs": [],
   "source": []
  },
  {
   "cell_type": "code",
   "execution_count": null,
   "metadata": {},
   "outputs": [],
   "source": []
  },
  {
   "cell_type": "code",
   "execution_count": null,
   "metadata": {},
   "outputs": [],
   "source": []
  },
  {
   "cell_type": "code",
   "execution_count": null,
   "metadata": {},
   "outputs": [],
   "source": []
  },
  {
   "cell_type": "code",
   "execution_count": null,
   "metadata": {},
   "outputs": [],
   "source": []
  },
  {
   "cell_type": "code",
   "execution_count": null,
   "metadata": {},
   "outputs": [],
   "source": []
  },
  {
   "cell_type": "code",
   "execution_count": null,
   "metadata": {},
   "outputs": [],
   "source": []
  },
  {
   "cell_type": "code",
   "execution_count": null,
   "metadata": {},
   "outputs": [],
   "source": []
  },
  {
   "cell_type": "code",
   "execution_count": null,
   "metadata": {},
   "outputs": [],
   "source": []
  },
  {
   "cell_type": "code",
   "execution_count": null,
   "metadata": {},
   "outputs": [],
   "source": []
  },
  {
   "cell_type": "code",
   "execution_count": null,
   "metadata": {},
   "outputs": [],
   "source": []
  }
 ],
 "metadata": {
  "kernelspec": {
   "display_name": "Python 3",
   "language": "python",
   "name": "python3"
  },
  "language_info": {
   "codemirror_mode": {
    "name": "ipython",
    "version": 3
   },
   "file_extension": ".py",
   "mimetype": "text/x-python",
   "name": "python",
   "nbconvert_exporter": "python",
   "pygments_lexer": "ipython3",
   "version": "3.7.1"
  }
 },
 "nbformat": 4,
 "nbformat_minor": 2
}
