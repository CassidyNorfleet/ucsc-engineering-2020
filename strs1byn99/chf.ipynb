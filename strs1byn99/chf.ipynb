{
 "cells": [
  {
   "cell_type": "code",
   "execution_count": 56,
   "metadata": {},
   "outputs": [],
   "source": [
    "import pandas as pd\n",
    "import matplotlib as mp\n",
    "import glob\n",
    "from collections import Counter\n",
    "import pprint"
   ]
  },
  {
   "cell_type": "code",
   "execution_count": 64,
   "metadata": {},
   "outputs": [],
   "source": [
    "# generate hemoglobin data for patients\n",
    "hemo_list = dict()\n",
    "\n",
    "# generate all patients' ids\n",
    "name_list = []\n",
    "\n",
    "# gemerate encounters of congestive heart failure\n",
    "chf_list = dict()\n",
    "\n",
    "for file in glob.glob('./data/*'):\n",
    "    hemo_data = dict()\n",
    "    chf_data = list()\n",
    "    data = pd.read_json(file)\n",
    "    count = data['entry'].count()\n",
    "    name = data['entry'][0]['resource']['id']\n",
    "    name_list.append(name)\n",
    "    for i in range(count):\n",
    "        if data['entry'][i]['resource']['resourceType'] == 'Observation':\n",
    "            resource = data['entry'][i]['resource']\n",
    "            if resource['code']['coding'][0]['code'] == '718-7':\n",
    "                time = resource['effectiveDateTime'][0:10]\n",
    "                value = resource['valueQuantity']['value']\n",
    "                hemo_data[time] = value\n",
    "        if data['entry'][i]['resource']['resourceType'] == 'Encounter':\n",
    "            resource = data['entry'][i]['resource']\n",
    "            if 'reasonCode' in resource:\n",
    "                if resource['reasonCode'][0]['coding'][0]['code'] == '88805009':\n",
    "                    time = resource['period']['start'][0:10]\n",
    "                    chf_data.append(time)\n",
    "                \n",
    "    hemo_list[name] = hemo_data\n",
    "    chf_list[name] = chf_data"
   ]
  },
  {
   "cell_type": "markdown",
   "metadata": {},
   "source": [
    "#### Patient id along with their hemoglobin value in Blood: "
   ]
  },
  {
   "cell_type": "code",
   "execution_count": 65,
   "metadata": {},
   "outputs": [
    {
     "name": "stdout",
     "output_type": "stream",
     "text": [
      "{'470c9504-8619-4929-84bb-ef79dd56db00': {'2013-07-17': 17.355,\n",
      "                                          '2019-07-03': 16.599},\n",
      " '4caf8822-06bd-4185-bb1e-62d59239bbaa': {'2010-06-15': 16.099,\n",
      "                                          '2015-07-14': 17.044},\n",
      " '51352e0a-f6e1-4b96-a9f0-001cc2ecd6a4': {'2013-05-28': 13.696,\n",
      "                                          '2018-06-26': 14.155},\n",
      " '53374852-859e-4e71-83c5-7de355eb3f95': {'2010-05-19': 12.353,\n",
      "                                          '2015-06-17': 13.926},\n",
      " '55013d41-9890-429d-8a79-441ba75d893e': {'2004-08-20': 16.675,\n",
      "                                          '2009-09-18': 12.522},\n",
      " '68dd34b4-9522-4725-88ec-4862d3c3978c': {},\n",
      " '91f3c391-9ae1-405e-b1e0-b5c2859a79f0': {'2016-02-21': 13.803},\n",
      " '9ef90ec0-a475-4492-9499-13bd662136f7': {'2011-11-23': 12.16,\n",
      "                                          '2016-12-21': 14.045},\n",
      " 'c79918a2-a71d-4042-8327-64636b3c4d53': {},\n",
      " 'd715ea54-89be-4525-bb55-5b2c52350c9d': {'2000-10-12': 11.333},\n",
      " 'd8bcac7d-61f6-49e0-bd23-0472344d14ab': {},\n",
      " 'f6f3b565-ae4c-4e38-9017-a8b557bd0657': {'2017-04-26': 13.992},\n",
      " 'f8ed3dd1-5aa5-47ef-9965-308a25ebad32': {'2012-05-16': 16.39,\n",
      "                                          '2018-05-02': 16.552}}\n"
     ]
    }
   ],
   "source": [
    "pprint.pprint(hemo_list)"
   ]
  },
  {
   "cell_type": "markdown",
   "metadata": {},
   "source": [
    "#### Patient id along with their records of encountering congestive heart failure: "
   ]
  },
  {
   "cell_type": "code",
   "execution_count": 66,
   "metadata": {},
   "outputs": [
    {
     "name": "stdout",
     "output_type": "stream",
     "text": [
      "{'470c9504-8619-4929-84bb-ef79dd56db00': [],\n",
      " '4caf8822-06bd-4185-bb1e-62d59239bbaa': [],\n",
      " '51352e0a-f6e1-4b96-a9f0-001cc2ecd6a4': [],\n",
      " '53374852-859e-4e71-83c5-7de355eb3f95': ['2014-07-17',\n",
      "                                          '2014-08-07',\n",
      "                                          '2016-01-29',\n",
      "                                          '2017-07-22',\n",
      "                                          '2019-01-13'],\n",
      " '55013d41-9890-429d-8a79-441ba75d893e': ['2006-08-07',\n",
      "                                          '2006-08-28',\n",
      "                                          '2008-02-19',\n",
      "                                          '2009-02-13',\n",
      "                                          '2009-02-13',\n",
      "                                          '2009-08-13',\n",
      "                                          '2010-08-08',\n",
      "                                          '2012-01-30',\n",
      "                                          '2012-07-28',\n",
      "                                          '2012-07-28'],\n",
      " '68dd34b4-9522-4725-88ec-4862d3c3978c': ['2008-07-05',\n",
      "                                          '2008-07-26',\n",
      "                                          '2009-07-21',\n",
      "                                          '2010-01-17',\n",
      "                                          '2010-07-16',\n",
      "                                          '2010-07-16'],\n",
      " '91f3c391-9ae1-405e-b1e0-b5c2859a79f0': [],\n",
      " '9ef90ec0-a475-4492-9499-13bd662136f7': [],\n",
      " 'c79918a2-a71d-4042-8327-64636b3c4d53': ['1983-11-29',\n",
      "                                          '1983-12-20',\n",
      "                                          '1984-12-14',\n",
      "                                          '1984-12-14'],\n",
      " 'd715ea54-89be-4525-bb55-5b2c52350c9d': ['2000-10-12',\n",
      "                                          '2000-11-02',\n",
      "                                          '2001-05-01',\n",
      "                                          '2001-05-01',\n",
      "                                          '2001-10-29',\n",
      "                                          '2002-04-27',\n",
      "                                          '2002-04-27'],\n",
      " 'd8bcac7d-61f6-49e0-bd23-0472344d14ab': ['2002-07-07',\n",
      "                                          '2002-07-28',\n",
      "                                          '2003-01-24',\n",
      "                                          '2003-01-24',\n",
      "                                          '2003-07-24',\n",
      "                                          '2004-01-20',\n",
      "                                          '2004-07-18',\n",
      "                                          '2004-07-18'],\n",
      " 'f6f3b565-ae4c-4e38-9017-a8b557bd0657': [],\n",
      " 'f8ed3dd1-5aa5-47ef-9965-308a25ebad32': []}\n"
     ]
    }
   ],
   "source": [
    "pprint.pprint(chf_list)"
   ]
  },
  {
   "cell_type": "code",
   "execution_count": 102,
   "metadata": {
    "scrolled": false
   },
   "outputs": [
    {
     "name": "stdout",
     "output_type": "stream",
     "text": [
      "[<generator object <genexpr> at 0x0000028382A180C0>]\n",
      "<class 'list'>\n"
     ]
    },
    {
     "ename": "ValueError",
     "evalue": "arrays must all be same length",
     "output_type": "error",
     "traceback": [
      "\u001b[1;31m---------------------------------------------------------------------------\u001b[0m",
      "\u001b[1;31mValueError\u001b[0m                                Traceback (most recent call last)",
      "\u001b[1;32m<ipython-input-102-a83ae02d5eef>\u001b[0m in \u001b[0;36m<module>\u001b[1;34m\u001b[0m\n\u001b[0;32m     10\u001b[0m \u001b[0mprint\u001b[0m\u001b[1;33m(\u001b[0m\u001b[0mtype\u001b[0m\u001b[1;33m(\u001b[0m\u001b[0mdates\u001b[0m\u001b[1;33m)\u001b[0m\u001b[1;33m)\u001b[0m\u001b[1;33m\u001b[0m\u001b[1;33m\u001b[0m\u001b[0m\n\u001b[0;32m     11\u001b[0m \u001b[0mpdata\u001b[0m \u001b[1;33m=\u001b[0m \u001b[1;33m{\u001b[0m\u001b[1;34m\"Date\"\u001b[0m\u001b[1;33m:\u001b[0m \u001b[0mdates\u001b[0m\u001b[1;33m,\u001b[0m \u001b[1;34m\"Hemoglobin Value in Blood\"\u001b[0m\u001b[1;33m:\u001b[0m \u001b[0mvalues\u001b[0m\u001b[1;33m}\u001b[0m\u001b[1;33m\u001b[0m\u001b[1;33m\u001b[0m\u001b[0m\n\u001b[1;32m---> 12\u001b[1;33m \u001b[0mpd\u001b[0m\u001b[1;33m.\u001b[0m\u001b[0mDataFrame\u001b[0m\u001b[1;33m(\u001b[0m\u001b[0mpdata\u001b[0m\u001b[1;33m)\u001b[0m\u001b[1;33m\u001b[0m\u001b[1;33m\u001b[0m\u001b[0m\n\u001b[0m",
      "\u001b[1;32m~\\Anaconda3\\lib\\site-packages\\pandas\\core\\frame.py\u001b[0m in \u001b[0;36m__init__\u001b[1;34m(self, data, index, columns, dtype, copy)\u001b[0m\n\u001b[0;32m    346\u001b[0m                                  dtype=dtype, copy=copy)\n\u001b[0;32m    347\u001b[0m         \u001b[1;32melif\u001b[0m \u001b[0misinstance\u001b[0m\u001b[1;33m(\u001b[0m\u001b[0mdata\u001b[0m\u001b[1;33m,\u001b[0m \u001b[0mdict\u001b[0m\u001b[1;33m)\u001b[0m\u001b[1;33m:\u001b[0m\u001b[1;33m\u001b[0m\u001b[1;33m\u001b[0m\u001b[0m\n\u001b[1;32m--> 348\u001b[1;33m             \u001b[0mmgr\u001b[0m \u001b[1;33m=\u001b[0m \u001b[0mself\u001b[0m\u001b[1;33m.\u001b[0m\u001b[0m_init_dict\u001b[0m\u001b[1;33m(\u001b[0m\u001b[0mdata\u001b[0m\u001b[1;33m,\u001b[0m \u001b[0mindex\u001b[0m\u001b[1;33m,\u001b[0m \u001b[0mcolumns\u001b[0m\u001b[1;33m,\u001b[0m \u001b[0mdtype\u001b[0m\u001b[1;33m=\u001b[0m\u001b[0mdtype\u001b[0m\u001b[1;33m)\u001b[0m\u001b[1;33m\u001b[0m\u001b[1;33m\u001b[0m\u001b[0m\n\u001b[0m\u001b[0;32m    349\u001b[0m         \u001b[1;32melif\u001b[0m \u001b[0misinstance\u001b[0m\u001b[1;33m(\u001b[0m\u001b[0mdata\u001b[0m\u001b[1;33m,\u001b[0m \u001b[0mma\u001b[0m\u001b[1;33m.\u001b[0m\u001b[0mMaskedArray\u001b[0m\u001b[1;33m)\u001b[0m\u001b[1;33m:\u001b[0m\u001b[1;33m\u001b[0m\u001b[1;33m\u001b[0m\u001b[0m\n\u001b[0;32m    350\u001b[0m             \u001b[1;32mimport\u001b[0m \u001b[0mnumpy\u001b[0m\u001b[1;33m.\u001b[0m\u001b[0mma\u001b[0m\u001b[1;33m.\u001b[0m\u001b[0mmrecords\u001b[0m \u001b[1;32mas\u001b[0m \u001b[0mmrecords\u001b[0m\u001b[1;33m\u001b[0m\u001b[1;33m\u001b[0m\u001b[0m\n",
      "\u001b[1;32m~\\Anaconda3\\lib\\site-packages\\pandas\\core\\frame.py\u001b[0m in \u001b[0;36m_init_dict\u001b[1;34m(self, data, index, columns, dtype)\u001b[0m\n\u001b[0;32m    457\u001b[0m             \u001b[0marrays\u001b[0m \u001b[1;33m=\u001b[0m \u001b[1;33m[\u001b[0m\u001b[0mdata\u001b[0m\u001b[1;33m[\u001b[0m\u001b[0mk\u001b[0m\u001b[1;33m]\u001b[0m \u001b[1;32mfor\u001b[0m \u001b[0mk\u001b[0m \u001b[1;32min\u001b[0m \u001b[0mkeys\u001b[0m\u001b[1;33m]\u001b[0m\u001b[1;33m\u001b[0m\u001b[1;33m\u001b[0m\u001b[0m\n\u001b[0;32m    458\u001b[0m \u001b[1;33m\u001b[0m\u001b[0m\n\u001b[1;32m--> 459\u001b[1;33m         \u001b[1;32mreturn\u001b[0m \u001b[0m_arrays_to_mgr\u001b[0m\u001b[1;33m(\u001b[0m\u001b[0marrays\u001b[0m\u001b[1;33m,\u001b[0m \u001b[0mdata_names\u001b[0m\u001b[1;33m,\u001b[0m \u001b[0mindex\u001b[0m\u001b[1;33m,\u001b[0m \u001b[0mcolumns\u001b[0m\u001b[1;33m,\u001b[0m \u001b[0mdtype\u001b[0m\u001b[1;33m=\u001b[0m\u001b[0mdtype\u001b[0m\u001b[1;33m)\u001b[0m\u001b[1;33m\u001b[0m\u001b[1;33m\u001b[0m\u001b[0m\n\u001b[0m\u001b[0;32m    460\u001b[0m \u001b[1;33m\u001b[0m\u001b[0m\n\u001b[0;32m    461\u001b[0m     \u001b[1;32mdef\u001b[0m \u001b[0m_init_ndarray\u001b[0m\u001b[1;33m(\u001b[0m\u001b[0mself\u001b[0m\u001b[1;33m,\u001b[0m \u001b[0mvalues\u001b[0m\u001b[1;33m,\u001b[0m \u001b[0mindex\u001b[0m\u001b[1;33m,\u001b[0m \u001b[0mcolumns\u001b[0m\u001b[1;33m,\u001b[0m \u001b[0mdtype\u001b[0m\u001b[1;33m=\u001b[0m\u001b[1;32mNone\u001b[0m\u001b[1;33m,\u001b[0m \u001b[0mcopy\u001b[0m\u001b[1;33m=\u001b[0m\u001b[1;32mFalse\u001b[0m\u001b[1;33m)\u001b[0m\u001b[1;33m:\u001b[0m\u001b[1;33m\u001b[0m\u001b[1;33m\u001b[0m\u001b[0m\n",
      "\u001b[1;32m~\\Anaconda3\\lib\\site-packages\\pandas\\core\\frame.py\u001b[0m in \u001b[0;36m_arrays_to_mgr\u001b[1;34m(arrays, arr_names, index, columns, dtype)\u001b[0m\n\u001b[0;32m   7354\u001b[0m     \u001b[1;31m# figure out the index, if necessary\u001b[0m\u001b[1;33m\u001b[0m\u001b[1;33m\u001b[0m\u001b[1;33m\u001b[0m\u001b[0m\n\u001b[0;32m   7355\u001b[0m     \u001b[1;32mif\u001b[0m \u001b[0mindex\u001b[0m \u001b[1;32mis\u001b[0m \u001b[1;32mNone\u001b[0m\u001b[1;33m:\u001b[0m\u001b[1;33m\u001b[0m\u001b[1;33m\u001b[0m\u001b[0m\n\u001b[1;32m-> 7356\u001b[1;33m         \u001b[0mindex\u001b[0m \u001b[1;33m=\u001b[0m \u001b[0mextract_index\u001b[0m\u001b[1;33m(\u001b[0m\u001b[0marrays\u001b[0m\u001b[1;33m)\u001b[0m\u001b[1;33m\u001b[0m\u001b[1;33m\u001b[0m\u001b[0m\n\u001b[0m\u001b[0;32m   7357\u001b[0m \u001b[1;33m\u001b[0m\u001b[0m\n\u001b[0;32m   7358\u001b[0m     \u001b[1;31m# don't force copy because getting jammed in an ndarray anyway\u001b[0m\u001b[1;33m\u001b[0m\u001b[1;33m\u001b[0m\u001b[1;33m\u001b[0m\u001b[0m\n",
      "\u001b[1;32m~\\Anaconda3\\lib\\site-packages\\pandas\\core\\frame.py\u001b[0m in \u001b[0;36mextract_index\u001b[1;34m(data)\u001b[0m\n\u001b[0;32m   7400\u001b[0m             \u001b[0mlengths\u001b[0m \u001b[1;33m=\u001b[0m \u001b[0mlist\u001b[0m\u001b[1;33m(\u001b[0m\u001b[0mset\u001b[0m\u001b[1;33m(\u001b[0m\u001b[0mraw_lengths\u001b[0m\u001b[1;33m)\u001b[0m\u001b[1;33m)\u001b[0m\u001b[1;33m\u001b[0m\u001b[1;33m\u001b[0m\u001b[0m\n\u001b[0;32m   7401\u001b[0m             \u001b[1;32mif\u001b[0m \u001b[0mlen\u001b[0m\u001b[1;33m(\u001b[0m\u001b[0mlengths\u001b[0m\u001b[1;33m)\u001b[0m \u001b[1;33m>\u001b[0m \u001b[1;36m1\u001b[0m\u001b[1;33m:\u001b[0m\u001b[1;33m\u001b[0m\u001b[1;33m\u001b[0m\u001b[0m\n\u001b[1;32m-> 7402\u001b[1;33m                 \u001b[1;32mraise\u001b[0m \u001b[0mValueError\u001b[0m\u001b[1;33m(\u001b[0m\u001b[1;34m'arrays must all be same length'\u001b[0m\u001b[1;33m)\u001b[0m\u001b[1;33m\u001b[0m\u001b[1;33m\u001b[0m\u001b[0m\n\u001b[0m\u001b[0;32m   7403\u001b[0m \u001b[1;33m\u001b[0m\u001b[0m\n\u001b[0;32m   7404\u001b[0m             \u001b[1;32mif\u001b[0m \u001b[0mhave_dicts\u001b[0m\u001b[1;33m:\u001b[0m\u001b[1;33m\u001b[0m\u001b[1;33m\u001b[0m\u001b[0m\n",
      "\u001b[1;31mValueError\u001b[0m: arrays must all be same length"
     ]
    }
   ],
   "source": [
    "# patients with congestive heart failure\n",
    "# df = []\n",
    "# for key in chf_list.keys():\n",
    "#     if chf_list[key]:\n",
    "#         if hemo_list[key]:\n",
    "key = '53374852-859e-4e71-83c5-7de355eb3f95'            \n",
    "dates = list()\n",
    "dates.append(key for key in hemo_list.keys())\n",
    "print(dates)\n",
    "print(type(dates))\n",
    "pdata = {\"Date\": dates, \"Hemoglobin Value in Blood\": values}\n",
    "pd.DataFrame(pdata)\n"
   ]
  },
  {
   "cell_type": "code",
   "execution_count": null,
   "metadata": {},
   "outputs": [],
   "source": []
  },
  {
   "cell_type": "code",
   "execution_count": null,
   "metadata": {},
   "outputs": [],
   "source": []
  },
  {
   "cell_type": "code",
   "execution_count": null,
   "metadata": {},
   "outputs": [],
   "source": []
  },
  {
   "cell_type": "code",
   "execution_count": null,
   "metadata": {},
   "outputs": [],
   "source": []
  },
  {
   "cell_type": "code",
   "execution_count": null,
   "metadata": {},
   "outputs": [],
   "source": []
  },
  {
   "cell_type": "code",
   "execution_count": null,
   "metadata": {},
   "outputs": [],
   "source": []
  },
  {
   "cell_type": "code",
   "execution_count": null,
   "metadata": {},
   "outputs": [],
   "source": []
  },
  {
   "cell_type": "code",
   "execution_count": null,
   "metadata": {},
   "outputs": [],
   "source": []
  },
  {
   "cell_type": "code",
   "execution_count": null,
   "metadata": {},
   "outputs": [],
   "source": []
  },
  {
   "cell_type": "code",
   "execution_count": null,
   "metadata": {},
   "outputs": [],
   "source": []
  },
  {
   "cell_type": "code",
   "execution_count": null,
   "metadata": {},
   "outputs": [],
   "source": []
  }
 ],
 "metadata": {
  "kernelspec": {
   "display_name": "Python 3",
   "language": "python",
   "name": "python3"
  },
  "language_info": {
   "codemirror_mode": {
    "name": "ipython",
    "version": 3
   },
   "file_extension": ".py",
   "mimetype": "text/x-python",
   "name": "python",
   "nbconvert_exporter": "python",
   "pygments_lexer": "ipython3",
   "version": "3.7.1"
  }
 },
 "nbformat": 4,
 "nbformat_minor": 2
}
