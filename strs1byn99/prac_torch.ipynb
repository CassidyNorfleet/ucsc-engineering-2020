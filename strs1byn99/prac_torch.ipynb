{
 "cells": [
  {
   "cell_type": "code",
   "execution_count": 1,
   "metadata": {},
   "outputs": [],
   "source": [
    "import torch\n",
    "from torch.nn import Linear\n",
    "import matplotlib.pyplot as plt"
   ]
  },
  {
   "cell_type": "code",
   "execution_count": 8,
   "metadata": {},
   "outputs": [
    {
     "name": "stdout",
     "output_type": "stream",
     "text": [
      "Parameter containing:\n",
      "tensor([-0.4414], requires_grad=True) Parameter containing:\n",
      "tensor([[0.5153]], requires_grad=True)\n",
      "tensor([[0.5891],\n",
      "        [1.1044]], grad_fn=<AddmmBackward>)\n"
     ]
    }
   ],
   "source": [
    "# construct a linear model\n",
    "torch.manual_seed(1)\n",
    "model = Linear(in_features=1, out_features=1)\n",
    "print(model.bias, model.weight)\n",
    "x = torch.tensor([[2.0],[3.0]])\n",
    "print(model(x))"
   ]
  },
  {
   "cell_type": "code",
   "execution_count": 2,
   "metadata": {},
   "outputs": [
    {
     "data": {
      "text/plain": [
       "Text(0.5, 0, 'x')"
      ]
     },
     "execution_count": 2,
     "metadata": {},
     "output_type": "execute_result"
    },
    {
     "data": {
      "image/png": "[encoded data removed]",
      "text/plain": [
       "<Figure size 432x288 with 1 Axes>"
      ]
     },
     "metadata": {
      "needs_background": "light"
     },
     "output_type": "display_data"
    }
   ],
   "source": [
    "X = torch.randn(100, 1)*10\n",
    "y = X + torch.randn(100, 1)*3\n",
    "plt.plot(X.numpy(), y.numpy(), 'o')\n",
    "plt.ylabel('y')\n",
    "plt.xlabel('x')"
   ]
  },
  {
   "cell_type": "code",
   "execution_count": 3,
   "metadata": {},
   "outputs": [
    {
     "data": {
      "text/plain": [
       "tensor([[13.],\n",
       "        [22.]], grad_fn=<AddBackward0>)"
      ]
     },
     "execution_count": 3,
     "metadata": {},
     "output_type": "execute_result"
    }
   ],
   "source": [
    "# y = w*x + b linear regression\n",
    "w = torch.tensor(3.0, requires_grad=True)\n",
    "b = torch.tensor(1.0, requires_grad=True)\n",
    "\n",
    "def forward(x):\n",
    "    y = w*x+b\n",
    "    return y\n",
    "\n",
    "x = torch.tensor([[4],[7]])\n",
    "forward(x)"
   ]
  },
  {
   "cell_type": "code",
   "execution_count": 4,
   "metadata": {},
   "outputs": [
    {
     "name": "stdout",
     "output_type": "stream",
     "text": [
      "[Parameter containing:\n",
      "tensor([[0.5153]], requires_grad=True), Parameter containing:\n",
      "tensor([-0.4414], requires_grad=True)]\n",
      "tensor([[0.0739],\n",
      "        [0.5891]], grad_fn=<AddmmBackward>)\n"
     ]
    },
    {
     "data": {
      "image/png": "[encoded data removed]",
      "text/plain": [
       "<Figure size 432x288 with 1 Axes>"
      ]
     },
     "metadata": {
      "needs_background": "light"
     },
     "output_type": "display_data"
    },
    {
     "name": "stdout",
     "output_type": "stream",
     "text": [
      "epoch: 0 loss: 29.018465042114258\n",
      "epoch: 1 loss: 22.18675994873047\n",
      "epoch: 2 loss: 17.593765258789062\n",
      "epoch: 3 loss: 14.505633354187012\n",
      "epoch: 4 loss: 12.429123878479004\n",
      "epoch: 5 loss: 11.0326509475708\n",
      "epoch: 6 loss: 10.093328475952148\n",
      "epoch: 7 loss: 9.461325645446777\n",
      "epoch: 8 loss: 9.035930633544922\n",
      "epoch: 9 loss: 8.749435424804688\n",
      "epoch: 10 loss: 8.556334495544434\n",
      "epoch: 11 loss: 8.426032066345215\n",
      "epoch: 12 loss: 8.337964057922363\n",
      "epoch: 13 loss: 8.278304100036621\n",
      "epoch: 14 loss: 8.237756729125977\n",
      "epoch: 15 loss: 8.210076332092285\n",
      "epoch: 16 loss: 8.191061019897461\n",
      "epoch: 17 loss: 8.177887916564941\n",
      "epoch: 18 loss: 8.168655395507812\n",
      "epoch: 19 loss: 8.16208553314209\n",
      "epoch: 20 loss: 8.157320976257324\n",
      "epoch: 21 loss: 8.153786659240723\n",
      "epoch: 22 loss: 8.151086807250977\n",
      "epoch: 23 loss: 8.148963928222656\n",
      "epoch: 24 loss: 8.147241592407227\n",
      "epoch: 25 loss: 8.145796775817871\n",
      "epoch: 26 loss: 8.144552230834961\n",
      "epoch: 27 loss: 8.143451690673828\n",
      "epoch: 28 loss: 8.142461776733398\n",
      "epoch: 29 loss: 8.141551971435547\n",
      "epoch: 30 loss: 8.140705108642578\n",
      "epoch: 31 loss: 8.139914512634277\n",
      "epoch: 32 loss: 8.139167785644531\n",
      "epoch: 33 loss: 8.138457298278809\n",
      "epoch: 34 loss: 8.13778018951416\n",
      "epoch: 35 loss: 8.137136459350586\n",
      "epoch: 36 loss: 8.136517524719238\n",
      "epoch: 37 loss: 8.135926246643066\n",
      "epoch: 38 loss: 8.135358810424805\n",
      "epoch: 39 loss: 8.134814262390137\n",
      "epoch: 40 loss: 8.134292602539062\n",
      "epoch: 41 loss: 8.13379192352295\n",
      "epoch: 42 loss: 8.133310317993164\n",
      "epoch: 43 loss: 8.13284683227539\n",
      "epoch: 44 loss: 8.132403373718262\n",
      "epoch: 45 loss: 8.131976127624512\n",
      "epoch: 46 loss: 8.131567001342773\n",
      "epoch: 47 loss: 8.131173133850098\n",
      "epoch: 48 loss: 8.130794525146484\n",
      "epoch: 49 loss: 8.1304292678833\n",
      "epoch: 50 loss: 8.130081176757812\n",
      "epoch: 51 loss: 8.129745483398438\n",
      "epoch: 52 loss: 8.129422187805176\n",
      "epoch: 53 loss: 8.12911319732666\n",
      "epoch: 54 loss: 8.128813743591309\n",
      "epoch: 55 loss: 8.128528594970703\n",
      "epoch: 56 loss: 8.128253936767578\n",
      "epoch: 57 loss: 8.127989768981934\n",
      "epoch: 58 loss: 8.12773609161377\n",
      "epoch: 59 loss: 8.127492904663086\n",
      "epoch: 60 loss: 8.127259254455566\n",
      "epoch: 61 loss: 8.127032279968262\n",
      "epoch: 62 loss: 8.126816749572754\n",
      "epoch: 63 loss: 8.126608848571777\n",
      "epoch: 64 loss: 8.126409530639648\n",
      "epoch: 65 loss: 8.12621784210205\n",
      "epoch: 66 loss: 8.126033782958984\n",
      "epoch: 67 loss: 8.125856399536133\n",
      "epoch: 68 loss: 8.125686645507812\n",
      "epoch: 69 loss: 8.12552261352539\n",
      "epoch: 70 loss: 8.125365257263184\n",
      "epoch: 71 loss: 8.125213623046875\n",
      "epoch: 72 loss: 8.125070571899414\n",
      "epoch: 73 loss: 8.124929428100586\n",
      "epoch: 74 loss: 8.124796867370605\n",
      "epoch: 75 loss: 8.124667167663574\n",
      "epoch: 76 loss: 8.124544143676758\n",
      "epoch: 77 loss: 8.12442398071289\n",
      "epoch: 78 loss: 8.124310493469238\n",
      "epoch: 79 loss: 8.124202728271484\n",
      "epoch: 80 loss: 8.124095916748047\n",
      "epoch: 81 loss: 8.123995780944824\n",
      "epoch: 82 loss: 8.123897552490234\n",
      "epoch: 83 loss: 8.123805046081543\n",
      "epoch: 84 loss: 8.123714447021484\n",
      "epoch: 85 loss: 8.123628616333008\n",
      "epoch: 86 loss: 8.123546600341797\n",
      "epoch: 87 loss: 8.123466491699219\n",
      "epoch: 88 loss: 8.123390197753906\n",
      "epoch: 89 loss: 8.123315811157227\n",
      "epoch: 90 loss: 8.123245239257812\n",
      "epoch: 91 loss: 8.123176574707031\n",
      "epoch: 92 loss: 8.123111724853516\n",
      "epoch: 93 loss: 8.12304973602295\n",
      "epoch: 94 loss: 8.122989654541016\n",
      "epoch: 95 loss: 8.122931480407715\n",
      "epoch: 96 loss: 8.122876167297363\n",
      "epoch: 97 loss: 8.122821807861328\n",
      "epoch: 98 loss: 8.122771263122559\n",
      "epoch: 99 loss: 8.122722625732422\n"
     ]
    }
   ],
   "source": [
    "# custom model inherits nn\n",
    "# construct a model with a class\n",
    "import torch.nn as nn\n",
    "import numpy as np\n",
    "class LR(nn.Module):\n",
    "    def __init__(self, input_size, output_size):\n",
    "        super().__init__()\n",
    "        self.linear = nn.Linear(input_size, output_size)\n",
    "    def forward(self, x):\n",
    "        pred = self.linear(x)\n",
    "        return pred\n",
    "\n",
    "# RAMDOM PRACTICE OF MODEL\n",
    "torch.manual_seed(1)\n",
    "model = LR(1, 1)\n",
    "print(list(model.parameters()))\n",
    "x = torch.tensor([[1.0],[2.0]])\n",
    "print(model.forward(x))\n",
    "\n",
    "[w, b] = model.parameters()\n",
    "def get_params():\n",
    "    return (w[0][0].item(), b[0].item())\n",
    "\n",
    "def plot_fit(title):\n",
    "    plt.title = title\n",
    "    w1, b1 = get_params()\n",
    "    x1 = np.array([-30, 30])\n",
    "    y1 = w1*x1+b1\n",
    "    plt.plot(x1, y1, 'r')\n",
    "    plt.scatter(X, y)\n",
    "    plt.show()\n",
    "plot_fit('Initial Model')\n",
    "\n",
    "# train this model\n",
    "criterion = nn.MSELoss()\n",
    "optimizer = torch.optim.SGD(model.parameters(), lr = 0.01)\n",
    "epochs = 100\n",
    "losses = []\n",
    "for i in range(epochs):\n",
    "    y_pred = model.forward(X)\n",
    "    loss = criterion(y_pred, y)\n",
    "    print('epoch:', i, 'loss:', loss.item())\n",
    "    \n",
    "    losses.append(loss)\n",
    "    optimizer.zero_grad()\n",
    "    loss.backward()\n",
    "    optimizer.step()"
   ]
  },
  {
   "cell_type": "code",
   "execution_count": 6,
   "metadata": {},
   "outputs": [
    {
     "data": {
      "text/plain": [
       "Text(0.5, 0, 'EPOCHS')"
      ]
     },
     "execution_count": 6,
     "metadata": {},
     "output_type": "execute_result"
    },
    {
     "data": {
      "image/png": "[encoded data removed]",
      "text/plain": [
       "<Figure size 432x288 with 1 Axes>"
      ]
     },
     "metadata": {
      "needs_background": "light"
     },
     "output_type": "display_data"
    }
   ],
   "source": [
    "plt.plot(range(epochs), losses)\n",
    "plt.ylabel('LOSS')\n",
    "plt.xlabel('EPOCHS')"
   ]
  },
  {
   "cell_type": "code",
   "execution_count": 7,
   "metadata": {},
   "outputs": [
    {
     "data": {
      "image/png": "[encoded data removed]",
      "text/plain": [
       "<Figure size 432x288 with 1 Axes>"
      ]
     },
     "metadata": {
      "needs_background": "light"
     },
     "output_type": "display_data"
    }
   ],
   "source": [
    "plot_fit('Trained Model')"
   ]
  },
  {
   "cell_type": "code",
   "execution_count": null,
   "metadata": {},
   "outputs": [],
   "source": []
  },
  {
   "cell_type": "code",
   "execution_count": 1,
   "metadata": {},
   "outputs": [],
   "source": [
    "import torch\n",
    "import torch.nn as nn\n",
    "import torchvision.transforms.functional as TF\n",
    "from torch.autograd import Variable\n",
    "import numpy as np\n",
    "import pandas as pd"
   ]
  },
  {
   "cell_type": "code",
   "execution_count": 2,
   "metadata": {},
   "outputs": [
    {
     "data": {
      "text/html": [
       "<div>\n",
       "<style scoped>\n",
       "    .dataframe tbody tr th:only-of-type {\n",
       "        vertical-align: middle;\n",
       "    }\n",
       "\n",
       "    .dataframe tbody tr th {\n",
       "        vertical-align: top;\n",
       "    }\n",
       "\n",
       "    .dataframe thead th {\n",
       "        text-align: right;\n",
       "    }\n",
       "</style>\n",
       "<table border=\"1\" class=\"dataframe\">\n",
       "  <thead>\n",
       "    <tr style=\"text-align: right;\">\n",
       "      <th></th>\n",
       "      <th>0</th>\n",
       "      <th>1</th>\n",
       "      <th>2</th>\n",
       "      <th>3</th>\n",
       "      <th>4</th>\n",
       "      <th>5</th>\n",
       "      <th>6</th>\n",
       "      <th>7</th>\n",
       "      <th>8</th>\n",
       "    </tr>\n",
       "  </thead>\n",
       "  <tbody>\n",
       "    <tr>\n",
       "      <th>0</th>\n",
       "      <td>6</td>\n",
       "      <td>148</td>\n",
       "      <td>72</td>\n",
       "      <td>35</td>\n",
       "      <td>0</td>\n",
       "      <td>33.6</td>\n",
       "      <td>0.627</td>\n",
       "      <td>50</td>\n",
       "      <td>1</td>\n",
       "    </tr>\n",
       "    <tr>\n",
       "      <th>1</th>\n",
       "      <td>1</td>\n",
       "      <td>85</td>\n",
       "      <td>66</td>\n",
       "      <td>29</td>\n",
       "      <td>0</td>\n",
       "      <td>26.6</td>\n",
       "      <td>0.351</td>\n",
       "      <td>31</td>\n",
       "      <td>0</td>\n",
       "    </tr>\n",
       "    <tr>\n",
       "      <th>2</th>\n",
       "      <td>8</td>\n",
       "      <td>183</td>\n",
       "      <td>64</td>\n",
       "      <td>0</td>\n",
       "      <td>0</td>\n",
       "      <td>23.3</td>\n",
       "      <td>0.672</td>\n",
       "      <td>32</td>\n",
       "      <td>1</td>\n",
       "    </tr>\n",
       "    <tr>\n",
       "      <th>3</th>\n",
       "      <td>1</td>\n",
       "      <td>89</td>\n",
       "      <td>66</td>\n",
       "      <td>23</td>\n",
       "      <td>94</td>\n",
       "      <td>28.1</td>\n",
       "      <td>0.167</td>\n",
       "      <td>21</td>\n",
       "      <td>0</td>\n",
       "    </tr>\n",
       "    <tr>\n",
       "      <th>4</th>\n",
       "      <td>0</td>\n",
       "      <td>137</td>\n",
       "      <td>40</td>\n",
       "      <td>35</td>\n",
       "      <td>168</td>\n",
       "      <td>43.1</td>\n",
       "      <td>2.288</td>\n",
       "      <td>33</td>\n",
       "      <td>1</td>\n",
       "    </tr>\n",
       "  </tbody>\n",
       "</table>\n",
       "</div>"
      ],
      "text/plain": [
       "   0    1   2   3    4     5      6   7  8\n",
       "0  6  148  72  35    0  33.6  0.627  50  1\n",
       "1  1   85  66  29    0  26.6  0.351  31  0\n",
       "2  8  183  64   0    0  23.3  0.672  32  1\n",
       "3  1   89  66  23   94  28.1  0.167  21  0\n",
       "4  0  137  40  35  168  43.1  2.288  33  1"
      ]
     },
     "execution_count": 2,
     "metadata": {},
     "output_type": "execute_result"
    }
   ],
   "source": [
    "df = pd.read_csv('diabetes.csv',header=None,skiprows=1)\n",
    "df.head()"
   ]
  },
  {
   "cell_type": "code",
   "execution_count": 14,
   "metadata": {},
   "outputs": [],
   "source": [
    "# split datasets into train and test datasets\n",
    "num_obs = df.shape[0]\n",
    "train = df[:int(num_obs*0.7)]\n",
    "test = df[int(num_obs*0.7):]\n",
    "\n",
    "x_train = train.iloc[:, 0:8]\n",
    "y_train = train[[8]]\n",
    "\n",
    "x_test = test.iloc[:, 0:8]\n",
    "y_test = test[[8]]\n",
    "\n",
    "x_train = torch.tensor(x_train.values, dtype=torch.float32)\n",
    "y_train = torch.tensor(y_train.values, dtype=torch.long)\n",
    "x_test = torch.tensor(x_test.values, dtype=torch.float32)\n",
    "y_test = torch.tensor(y_test.values, dtype=torch.long)\n",
    "\n",
    "y_train = y_train.reshape(-1)\n",
    "y_test = y_test.reshape(-1)"
   ]
  },
  {
   "cell_type": "code",
   "execution_count": 4,
   "metadata": {},
   "outputs": [],
   "source": [
    "class LogisticR(nn.Module):\n",
    "    def __init__(self, input_dim, output_dim):\n",
    "        super(LogisticR, self).__init__()\n",
    "        self.linear = nn.Linear(input_dim, output_dim)\n",
    "        \n",
    "    def forward(self, x):\n",
    "        out = self.linear(x)\n",
    "        return out"
   ]
  },
  {
   "cell_type": "code",
   "execution_count": 5,
   "metadata": {},
   "outputs": [],
   "source": [
    "model = LogisticR(8, 2)\n",
    "# model.cuda() # using CPU\n",
    "\n",
    "criterion = nn.CrossEntropyLoss() # BCELoss() is also a good function\n",
    "epochs = 1000\n",
    "learning_rate = 0.001\n",
    "optimizer = torch.optim.SGD(model.parameters(),lr=learning_rate)"
   ]
  },
  {
   "cell_type": "code",
   "execution_count": 11,
   "metadata": {},
   "outputs": [
    {
     "name": "stdout",
     "output_type": "stream",
     "text": [
      "epoch: 0 loss: 5.415095329284668\n",
      "epoch: 50 loss: 1.5260754823684692\n",
      "epoch: 100 loss: 5.737933158874512\n",
      "epoch: 150 loss: 1.5738328695297241\n",
      "epoch: 200 loss: 5.602487087249756\n",
      "epoch: 250 loss: 1.5666464567184448\n",
      "epoch: 300 loss: 5.616183280944824\n",
      "epoch: 350 loss: 1.5738039016723633\n",
      "epoch: 400 loss: 5.599633693695068\n",
      "epoch: 450 loss: 1.578579306602478\n",
      "epoch: 500 loss: 5.586792469024658\n",
      "epoch: 550 loss: 1.5833855867385864\n",
      "epoch: 600 loss: 5.5739641189575195\n",
      "epoch: 650 loss: 1.5880396366119385\n",
      "epoch: 700 loss: 5.5613813400268555\n",
      "epoch: 750 loss: 1.5925366878509521\n",
      "epoch: 800 loss: 5.549064636230469\n",
      "epoch: 850 loss: 1.5968904495239258\n",
      "epoch: 900 loss: 5.536993503570557\n",
      "epoch: 950 loss: 1.6010973453521729\n",
      "epoch: 1000 loss: 5.525188446044922\n"
     ]
    }
   ],
   "source": [
    "all_accuracy = []\n",
    "all_loss = []\n",
    "counter = 0\n",
    "for epoch in range(epochs+1):\n",
    "    train_inputs = Variable(x_train)\n",
    "    true_train = Variable(y_train)\n",
    "    \n",
    "    optimizer.zero_grad()\n",
    "    \n",
    "    train_outputs = model(train_inputs)\n",
    "    \n",
    "    loss = criterion(train_outputs, true_train)\n",
    "    loss.backward()\n",
    "    optimizer.step()\n",
    "    \n",
    "    if epoch % 50 == 0:\n",
    "        all_loss.append(loss.item())\n",
    "        print('epoch:', epoch, 'loss:', loss.item())"
   ]
  },
  {
   "cell_type": "code",
   "execution_count": 12,
   "metadata": {},
   "outputs": [
    {
     "data": {
      "text/plain": [
       "[<matplotlib.lines.Line2D at 0x1dccca529e8>]"
      ]
     },
     "execution_count": 12,
     "metadata": {},
     "output_type": "execute_result"
    },
    {
     "data": {
      "image/png": "[encoded data removed]",
      "text/plain": [
       "<Figure size 432x288 with 1 Axes>"
      ]
     },
     "metadata": {
      "needs_background": "light"
     },
     "output_type": "display_data"
    }
   ],
   "source": [
    "epoch = [x for x in range(0, 1001, 50)]\n",
    "import matplotlib.pyplot as plt\n",
    "plt.title('Loss and Epoch')\n",
    "plt.xlabel('Epochs')\n",
    "plt.ylabel('Loss')\n",
    "plt.plot(epoch, all_loss)"
   ]
  },
  {
   "cell_type": "code",
   "execution_count": null,
   "metadata": {},
   "outputs": [],
   "source": []
  }
 ],
 "metadata": {
  "kernelspec": {
   "display_name": "Python 3",
   "language": "python",
   "name": "python3"
  },
  "language_info": {
   "codemirror_mode": {
    "name": "ipython",
    "version": 3
   },
   "file_extension": ".py",
   "mimetype": "text/x-python",
   "name": "python",
   "nbconvert_exporter": "python",
   "pygments_lexer": "ipython3",
   "version": "3.7.1"
  }
 },
 "nbformat": 4,
 "nbformat_minor": 2
}
